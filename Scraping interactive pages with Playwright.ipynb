{
 "cells": [
  {
   "cell_type": "raw",
   "id": "075e4cee-d48f-4a91-afb4-a8df5b132313",
   "metadata": {},
   "source": [
    "---\n",
    "title: \"Scraping interactive pages with Playwright\"\n",
    "format:\n",
    "  html:\n",
    "    toc: true\n",
    "    embed-resources: true\n",
    "    linkcolor: red\n",
    "    theme: cosmo\n",
    "    include-in-header:\n",
    "      - text: |\n",
    "          <style>\n",
    "            .cell-output-stdout, .cell-output-display, .cell-output-stderr {\n",
    "                overflow-y: auto;\n",
    "                border-left: solid #CCC 10px;\n",
    "                padding-left: 1em;\n",
    "                max-height: 70vh;\n",
    "                margin-bottom: 1em;\n",
    "            }\n",
    "            .cell-output-stderr code, .cell-output-display code, .cell-output-stdout code { white-space: pre-wrap; }\n",
    "            .cell-output-stderr { display: none; }\n",
    "            pre > code { font-size: 0.85em; }\n",
    "          </style>\n",
    "\n",
    "---"
   ]
  },
  {
   "cell_type": "markdown",
   "id": "8ae7b99c-29bd-42be-b041-d59f2d1058b8",
   "metadata": {},
   "source": [
    "These are the notes for the [Advanced scraping with Playwright](https://www.eventbrite.com/e/advanced-web-scraping-with-playwright-lede-2024-info-session-tickets-810653144377) session, which was a sample class and info session hosted by [Professor Jonathan Soma](https://jonathansoma.com/) for the [Lede Program](https://ledeprogram.com/), a summer data journalism intensive at Columbia Journalism School.\n",
    "\n",
    "## Requests and BeautifulSoup intro\n",
    "\n",
    "The traditional entry point for learning to scrape in Python is by using [requests](https://pypi.org/project/requests/) and [BeautifulSoup](https://beautiful-soup-4.readthedocs.io/en/latest/). It's usually great!\n",
    "\n",
    "In the case below, we're using it to scrape headlines [Le Monde's English website](https://www.lemonde.fr/en/)."
   ]
  },
  {
   "cell_type": "code",
   "execution_count": 4,
   "id": "296de6ed-ff06-4300-9c70-37fae4faca1b",
   "metadata": {},
   "outputs": [],
   "source": [
    "import requests\n",
    "from bs4 import BeautifulSoup\n",
    "\n",
    "response = requests.get(\"https://www.lemonde.fr/en/\")\n",
    "doc = BeautifulSoup(response.text)"
   ]
  },
  {
   "cell_type": "markdown",
   "id": "7ac576e0-954c-4e00-af8f-d2d0e096df89",
   "metadata": {},
   "source": [
    "Sometimes you'll get lucky and be able to scrape by just specifying a tag name..."
   ]
  },
  {
   "cell_type": "code",
   "execution_count": 5,
   "id": "c39a09d1-1227-47ed-89dd-032a025210e9",
   "metadata": {},
   "outputs": [
    {
     "name": "stdout",
     "output_type": "stream",
     "text": [
      "Gazprombank executives quietly sold their French villas after the Ukraine invasion\n",
      "Our die-hard obsession with virginity\n",
      "In Egypt, Gazans are 'caught between war and a country that doesn't want' them\n",
      "Two killed in Pakistan election protest as Khan allies lead in vote count\n",
      "Jacques Doillon, accused of rape by several actors, denounces the 'lies'\n",
      "France's new Education Minister Nicole Belloubet appointed in the midst of a school crisis\n",
      "French prosecutors seek trial for Lafarge cement group over terror financing\n",
      "Iran's Ayatollah Ali Khamenei removed from Instagram and Facebook\n",
      "Prince Harry settles phone hacking lawsuit against UK tabloid\n",
      "Vladimir Putin tells Tucker Carlson that Russia cannot be defeated in Ukraine\n",
      "European countries are turning to 'selective immigration' to mend labor shortages\n",
      "Three actresses accuse director Jacques Doillon of rape, sexual assault and harassment\n",
      "Sections\n",
      "French Focus\n",
      "Opinion\n",
      "Informations légales le Monde\n"
     ]
    }
   ],
   "source": [
    "headlines = doc.find_all('h3')\n",
    "for headline in headlines:\n",
    "    print(headline.text)"
   ]
  },
  {
   "cell_type": "markdown",
   "id": "3da344c5-3504-4248-a044-06da426e2f32",
   "metadata": {},
   "source": [
    "...but more often that not a class is going to be more effective."
   ]
  },
  {
   "cell_type": "code",
   "execution_count": 3,
   "id": "2a6c8243-c747-4f8c-a438-b497341c190c",
   "metadata": {},
   "outputs": [
    {
     "name": "stdout",
     "output_type": "stream",
     "text": [
      "Putin tells the West that Russia cannot be defeated in Ukraine\n",
      "In Egypt, Gazans are 'caught between war and a country that doesn't want' them\n",
      "Ukraine's Hungarian minority, caught between defending its identity and fear of Orban's policies\n",
      "In the Khan Yunis tunnels, Israeli army has little hope of freeing hostages by force\n",
      "Paris votes on SUVs: The end of the road for big cars?\n",
      "Why did astronauts leave poop on the moon, and what can we learn from it?\n",
      "What's the role of France's prime minister?\n",
      "Footage of Cyclone Belal hitting France's Réunion Island\n",
      "Pesticides: 'We, researchers, condemn the way scientific knowledge is being shelved'\n",
      "TotalEnergies makes its biggest profit ever\n",
      "Coca-Cola: Sponsor of the Paris 2024 Olympics and leading global plastic polluter\n",
      "UNESCO World Heritage site is engulfed by flames in Patagonia, Argentina\n",
      "With the Paris airport border police: 'The risk, for us, is that we won't be able to send them back'\n",
      "Three actresses accuse director Jacques Doillon of rape, sexual assault and harassment\n",
      "Under the guise of cinema, director Benoît Jacquot set up a predatory system\n",
      "ECHR faults France for police 'kettling' tactic\n",
      "Pesticides: 'We, researchers, condemn the way scientific knowledge is being shelved'\n",
      "'In many countries embracing democracy, it is regressing; in existing democracies, it is declining in quality'\n",
      "Pakistan's hobbled democracy\n",
      "Elfriede Jelinek, Nobel literature laureate, on the rise of the far right: 'I can hear a monster breathing'\n",
      "Paris pop-up 'rave' boutique opens its doors\n",
      "2024's must-see exhibitions in France: Henri Matisse, Jan Van Eyck, Vera Molnar, and more\n",
      "Stepping inside Paris's historic taxidermy paradise\n",
      "The French-Japanese designer putting a fashionable twist on the culinary arts\n",
      "\n",
      "Biden faces serious doubts about his health nine months before presidential election\n",
      "Ukraine's Hungarian minority, caught between defending its identity and fear of Orban's policies\n",
      "Pesticides: 'We, researchers, condemn the way scientific knowledge is being shelved'\n",
      "Paris-based Chinese film festival shows banned films\n",
      "Paris 2024: Thierry Henry faces the conundrum of assembling his Olympic football team roster\n",
      "In the Khan Yunis tunnels, Israeli army has little hope of freeing hostages by force\n",
      "Gazprombank executives quietly sold their French villas after the Ukraine invasion\n",
      "Our die-hard obsession with virginity\n",
      "In Egypt, Gazans are 'caught between war and a country that doesn't want' them\n",
      "Two killed in Pakistan election protest as Khan allies lead in vote count\n",
      "Jacques Doillon, accused of rape by several actors, denounces the 'lies'\n",
      "France's new Education Minister Nicole Belloubet appointed in the midst of a school crisis\n",
      "French prosecutors seek trial for Lafarge cement group over terror financing\n",
      "Iran's Ayatollah Ali Khamenei removed from Instagram and Facebook\n",
      "Prince Harry settles phone hacking lawsuit against UK tabloid\n",
      "Vladimir Putin tells Tucker Carlson that Russia cannot be defeated in Ukraine\n",
      "European countries are turning to 'selective immigration' to mend labor shortages\n",
      "Three actresses accuse director Jacques Doillon of rape, sexual assault and harassment\n",
      "'It's the story of a kidnapped child': Actress Judith Godrèche accuses director Benoît Jacquot of rape\n",
      "Under the guise of cinema, director Benoît Jacquot set up a predatory system\n",
      "Atos: The hubris and downfall of a French IT giant\n",
      "Pakistan's hobbled democracy\n",
      "'In many countries embracing democracy, it is regressing; in existing democracies, it is declining in quality'\n",
      "Donald Trump must face justice\n",
      "Swiss train hostage crisis ends with suspect killed and hostages freed\n",
      "Robert Badinter, who abolished the death penalty in France, has died\n",
      "Biden faces serious doubts about his health nine months before presidential election\n",
      "Putin tells the West that Russia cannot be defeated in Ukraine\n",
      "Vladimir Putin tells Tucker Carlson that Russia cannot be defeated in Ukraine\n",
      "European countries are turning to 'selective immigration' to mend labor shortages\n",
      "In the Khan Yunis tunnels, Israeli army has little hope of freeing hostages by force\n",
      "France's new Education Minister Nicole Belloubet appointed in the midst of a school crisis\n",
      "French government reshuffle: A long wait for a non-event\n"
     ]
    }
   ],
   "source": [
    "headlines = doc.find_all(class_='article__title')\n",
    "for headline in headlines:\n",
    "    print(headline.text)"
   ]
  },
  {
   "cell_type": "markdown",
   "id": "77391c43-7cdd-433f-85c8-77ccf4c17c2a",
   "metadata": {},
   "source": [
    "## Where requests + BeautifulSoup fails\n",
    "\n",
    "Some websites you'll be able to download fine with requests, but when you start trying to use BeautifulSoup *nothing shows up*. For example, if we try to access [OpenSyllabus listing pages](https://explorer.opensyllabus.org/results-list/titles?size=50) we won't see any books show up in BeautifulSoup."
   ]
  },
  {
   "cell_type": "code",
   "execution_count": 17,
   "id": "f49f7531-66c0-4615-bc06-6984d67bb2db",
   "metadata": {},
   "outputs": [],
   "source": [
    "response = requests.get(\"https://explorer.opensyllabus.org/results-list/titles?size=50\")\n",
    "doc = BeautifulSoup(response.text)"
   ]
  },
  {
   "cell_type": "code",
   "execution_count": 18,
   "id": "7b0edcd3-d4a3-4720-a9e7-76bf75f88a89",
   "metadata": {},
   "outputs": [
    {
     "data": {
      "text/plain": [
       "[]"
      ]
     },
     "execution_count": 18,
     "metadata": {},
     "output_type": "execute_result"
    }
   ],
   "source": [
    "doc.find_all(class_='name-div')"
   ]
  },
  {
   "cell_type": "markdown",
   "id": "fe7e98aa-a909-41a3-bcfb-1625152bc8c2",
   "metadata": {},
   "source": [
    "This is because the page retrived by requests *doesn't actually have all those books on it*."
   ]
  },
  {
   "cell_type": "code",
   "execution_count": 10,
   "id": "d19e6277-8d24-4f69-a6cb-5c3165f89d37",
   "metadata": {},
   "outputs": [
    {
     "data": {
      "text/plain": [
       "'<!doctype html><html lang=\"en\"><head><meta charset=\"utf-8\"><meta name=\"viewport\" content=\"width=device-width,initial-scale=1\"><script async src=\"https://www.googletagmanager.com/gtag/js?id=UA-72367808-1\"></script><script>function gtag(){dataLayer.push(arguments)}window.dataLayer=window.dataLayer||[],gtag(\"js\",new Date),gtag(\"config\",\"UA-72367808-1\")</script><link rel=\"shortcut icon\" href=\"/favicon.ico\"><link rel=\"stylesheet\" href=\"https://unpkg.com/leaflet@1.0.3/dist/leaflet.css\"/><meta property=\"og:site_name\" content=\"Open Syllabus\"/><meta property=\"og:title\" content=\"Open Syllabus: Explorer\"/><meta property=\"og:description\" content=\"Mapping the college curriculum across 7,292,573 syllabi.\"/><meta property=\"og:image\" content=\"https://opensyllabus.org/og-image.jpg\"/><meta name=\"twitter:card\" content=\"summary_large_image\"/><meta name=\"twitter:site\" content=\"@opensyllabus\"/><title>Open Syllabus</title><link href=\"/static/css/main.a318ad5b.css\" rel=\"stylesheet\"></head><body><div id=\"root\"></div><script type=\"text/javascript\" src=\"/static/js/main.d45e95ea.js\"></script></body></html>'"
      ]
     },
     "execution_count": 10,
     "metadata": {},
     "output_type": "execute_result"
    }
   ],
   "source": [
    "response.text"
   ]
  },
  {
   "cell_type": "markdown",
   "id": "3e0baa84-2109-442b-b869-a33d0e4974a2",
   "metadata": {},
   "source": [
    "This is because visiting this site is a two-step process, first you load up this bare-bones skeleton page, then **the browser goes and gets the actual information.** Requests doesn't do that next step, so we need to try another tool!"
   ]
  },
  {
   "cell_type": "markdown",
   "id": "03f683a1-d6f1-453e-8b4d-41540791c0af",
   "metadata": {},
   "source": [
    "## Enter Playwright\n",
    "\n",
    "Instead of pulling the raw HTML contents of the page, Playwright actually controls your browser for you! It can load pages up, you can click things, fill out forms, all sorts of things.\n",
    "\n",
    "## Installing Playwright\n",
    "\n",
    "To install Playwright, you just need two commands: one to install the library, the other to install the necessary browsers. You can run them both from the command line, or put `!` in front of them if you're running them from a Jupyter Notebook.\n",
    "\n",
    "```bash\n",
    "pip install playwright\n",
    "playwright install\n",
    "```\n",
    "\n",
    "If you come from a Selenium background, it's a lot easier than tracking down webdrivers, 'eh?\n",
    "\n",
    "## Using Playwright\n",
    "\n",
    "To begin we'll just access the same OpenSyllabus page as before and see the actual contents."
   ]
  },
  {
   "cell_type": "code",
   "execution_count": 11,
   "id": "3d1d9c00-7cb9-4cc0-aed4-0c849ee3e1ec",
   "metadata": {},
   "outputs": [
    {
     "data": {
      "text/plain": [
       "<Response url='https://explorer.opensyllabus.org/results-list/titles?size=50' request=<Request url='https://explorer.opensyllabus.org/results-list/titles?size=50' method='GET'>>"
      ]
     },
     "execution_count": 11,
     "metadata": {},
     "output_type": "execute_result"
    }
   ],
   "source": [
    "from playwright.async_api import async_playwright\n",
    "\n",
    "# \"Hey, open up a browser\"\n",
    "playwright = await async_playwright().start()\n",
    "browser = await playwright.chromium.launch(headless=False)\n",
    "\n",
    "# Create a new browser window\n",
    "page = await browser.new_page()\n",
    "\n",
    "# Tell it to go to this page\n",
    "await page.goto(\"https://explorer.opensyllabus.org/results-list/titles?size=50\")"
   ]
  },
  {
   "cell_type": "markdown",
   "id": "cba3e675-8434-45f3-adb5-af5c4f485287",
   "metadata": {},
   "source": [
    "Some people will actually scrape the page Playwright, grabbing titles and all of that, but I find it's easiest to take the HTML – the *full* HTML, after the skeleton has been filled in – and feed it to BeautifulSoup, just like we're used to."
   ]
  },
  {
   "cell_type": "code",
   "execution_count": 19,
   "id": "928cb9f8-f2aa-40fd-bdc3-593cfff53b4c",
   "metadata": {},
   "outputs": [],
   "source": [
    "html_content = await page.content()\n",
    "\n",
    "doc = BeautifulSoup(html_content)"
   ]
  },
  {
   "cell_type": "code",
   "execution_count": 20,
   "id": "4f68679a-c96e-4cae-bfb0-bc1f8b396a27",
   "metadata": {},
   "outputs": [
    {
     "data": {
      "text/plain": [
       "[<div class=\"name-div\"><p><a href=\"/result/title?id=9199819950029\">The Elements of Style</a></p><span class=\"name\"><div><a href=\"/result/author?id=William+Strunk\">William Strunk</a></div></span><span class=\"publisher\"><div class=\"div-no-link\">Multiple Editions</div></span></div>,\n",
       " <div class=\"name-div\"><p><a href=\"/result/title?id=33749853015144\">A Writer's Reference</a></p><span class=\"name\"><div><a href=\"/result/author?id=Diana+Hacker\">Diana Hacker</a></div></span><span class=\"publisher\"><div><a href=\"/result/publisher?id=St.+Martin%27s+%2F+Bedford+Books\"><div class=\"div-link\">St. Martin's / Bedford Books</div>,</a><div class=\"div1-no-link\">1989</div></div></span></div>,\n",
       " <div class=\"name-div\"><p><a href=\"/result/title?id=7988639699494\">A Manual for Writers of Term Papers, Theses, and Dissertations</a></p><span class=\"name\"><div><a href=\"/result/author?id=Kate+L.+Turabian\">Kate L. Turabian</a></div></span><span class=\"publisher\"><div><a href=\"/result/publisher?id=University+of+Chicago+Press\"><div class=\"div-link\">University of Chicago Press</div>,</a><div class=\"div1-no-link\">1955</div></div></span></div>,\n",
       " <div class=\"name-div\"><p><a href=\"/result/title?id=8306467210251\">The Communist Manifesto</a></p><span class=\"name\"><div><a href=\"/result/author?id=Karl+Marx\">Karl Marx</a></div></span><span class=\"publisher\"><div class=\"div-no-link\">Multiple Editions</div></span></div>,\n",
       " <div class=\"name-div\"><p><a href=\"/result/title?id=7636452301400\">The Republic</a></p><span class=\"name\"><div><a href=\"/result/author?id=Plato\">Plato</a></div></span><span class=\"publisher\"><div class=\"div-no-link\">Multiple Editions</div></span></div>,\n",
       " <div class=\"name-div\"><p><a href=\"/result/title?id=33457795238412\">Calculus</a></p><span class=\"name\"><div><a href=\"/result/author?id=James+Stewart\">James Stewart</a></div></span><span class=\"publisher\"><div><a href=\"/result/publisher?id=Brooks+%2F+Cole\"><div class=\"div-link\">Brooks / Cole</div>,</a><div class=\"div1-no-link\">1987</div></div></span></div>,\n",
       " <div class=\"name-div\"><p><a href=\"/result/title?id=7507602833850\">Frankenstein</a></p><span class=\"name\"><div><a href=\"/result/author?id=Mary+Wollstonecraft+Shelley\">Mary Wollstonecraft Shelley</a></div></span><span class=\"publisher\"><div class=\"div-no-link\">Multiple Editions</div></span></div>,\n",
       " <div class=\"name-div\"><p><a href=\"/result/title?id=7507602833551\">The Canterbury Tales</a></p><span class=\"name\"><div><a href=\"/result/author?id=Geoffrey+Chaucer\">Geoffrey Chaucer</a></div></span><span class=\"publisher\"><div class=\"div-no-link\">Multiple Editions</div></span></div>,\n",
       " <div class=\"name-div\"><p><a href=\"/result/title?id=7507602833458\">Nicomachean Ethics</a></p><span class=\"name\"><div><a href=\"/result/author?id=Aristotle\">Aristotle</a></div></span><span class=\"publisher\"><div class=\"div-no-link\">Multiple Editions</div></span></div>,\n",
       " <div class=\"name-div\"><p><a href=\"/result/title?id=32804960208506\">Human Anatomy and Physiology</a></p><span class=\"name\"><div><a href=\"/result/author?id=Elaine+Nicpon+Marieb\">Elaine Nicpon Marieb</a></div></span><span class=\"publisher\"><div class=\"div-no-link\">Multiple Editions</div></span></div>,\n",
       " <div class=\"name-div\"><p><a href=\"/result/title?id=42305427866233\">Doing Your Research Project: A Guide for First-Time Researchers in Education and Social Science</a></p><span class=\"name\"><div><a href=\"/result/author?id=Judith+Bell\">Judith Bell</a></div></span><span class=\"publisher\"><div><a href=\"/result/publisher?id=Open+University+Press\"><div class=\"div-link\">Open University Press</div>,</a><div class=\"div1-no-link\">1986</div></div></span></div>,\n",
       " <div class=\"name-div\"><p><a href=\"/result/title?id=40166534153645\">Imagined Communities: Reflections on the Origin and Spread of Nationalism</a></p><span class=\"name\"><div><a href=\"/result/author?id=Benedict+R.+O.%27G.+Anderson\">Benedict R. O.'G. Anderson</a></div></span><span class=\"publisher\"><div><a href=\"/result/publisher?id=Verso+Books\"><div class=\"div-link\">Verso Books</div>,</a><div class=\"div1-no-link\">1983</div></div></span></div>,\n",
       " <div class=\"name-div\"><p><a href=\"/result/title?id=32521492368242\">They Say/I Say: The Moves That Matter in Academic Writing</a></p><span class=\"name\"><div><a href=\"/result/author?id=Gerald+Graff\">Gerald Graff</a></div></span><span class=\"publisher\"><div class=\"div-no-link\">Multiple Editions</div></span></div>,\n",
       " <div class=\"name-div\"><p><a href=\"/result/title?id=7507602833582\">Leviathan</a></p><span class=\"name\"><div><a href=\"/result/author?id=Thomas+Hobbes\">Thomas Hobbes</a></div></span><span class=\"publisher\"><div class=\"div-no-link\">Multiple Editions</div></span></div>,\n",
       " <div class=\"name-div\"><p><a href=\"/result/title?id=33028298506521\">A Pocket Style Manual</a></p><span class=\"name\"><div><a href=\"/result/author?id=Diana+Hacker\">Diana Hacker</a></div></span><span class=\"publisher\"><div><a href=\"/result/publisher?id=St.+Martin%27s+%2F+Bedford+Books\"><div class=\"div-link\">St. Martin's / Bedford Books</div>,</a><div class=\"div1-no-link\">1993</div></div></span></div>,\n",
       " <div class=\"name-div\"><p><a href=\"/result/title?id=16243566318681\">Discipline and Punish: The Birth of the Prison</a></p><span class=\"name\"><div><a href=\"/result/author?id=Michel+Foucault\">Michel Foucault</a></div></span><span class=\"publisher\"><div class=\"div-no-link\">Multiple Editions</div></span></div>,\n",
       " <div class=\"name-div\"><p><a href=\"/result/title?id=7868380119082\">The Study Skills Handbook</a></p><span class=\"name\"><div><a href=\"/result/author?id=Stella+Cottrell\">Stella Cottrell</a></div></span><span class=\"publisher\"><div><a href=\"/result/publisher?id=Palgrave+Macmillan\"><div class=\"div-link\">Palgrave Macmillan</div>,</a><div class=\"div1-no-link\">1999</div></div></span></div>,\n",
       " <div class=\"name-div\"><p><a href=\"/result/title?id=8108898763586\">Orientalism</a></p><span class=\"name\"><div><a href=\"/result/author?id=Edward+W.+Said\">Edward W. Said</a></div></span><span class=\"publisher\"><div class=\"div-no-link\">Multiple Editions</div></span></div>,\n",
       " <div class=\"name-div\"><p><a href=\"/result/title?id=33938831573696\">Social Research Methods</a></p><span class=\"name\"><div><a href=\"/result/author?id=Alan+Bryman\">Alan Bryman</a></div></span><span class=\"publisher\"><div><a href=\"/result/publisher?id=Oxford+University+Press\"><div class=\"div-link\">Oxford University Press</div>,</a><div class=\"div1-no-link\">2001</div></div></span></div>,\n",
       " <div class=\"name-div\"><p><a href=\"/result/title?id=33466385171310\">Research Design: Qualitative, Quantitative, and Mixed Methods Approaches</a></p><span class=\"name\"><div><a href=\"/result/author?id=John+W.+Creswell\">John W. Creswell</a></div></span><span class=\"publisher\"><div><a href=\"/result/publisher?id=SAGE\"><div class=\"div-link\">SAGE</div>,</a><div class=\"div1-no-link\">1994</div></div></span></div>,\n",
       " <div class=\"name-div\"><p><a href=\"/result/title?id=7507602833603\">Paradise Lost</a></p><span class=\"name\"><div><a href=\"/result/author?id=John+Milton\">John Milton</a></div></span><span class=\"publisher\"><div class=\"div-no-link\">Multiple Editions</div></span></div>,\n",
       " <div class=\"name-div\"><p><a href=\"/result/title?id=32581621910019\">Marketing Management</a></p><span class=\"name\"><div><a href=\"/result/author?id=Philip+Kotler\">Philip Kotler</a></div></span><span class=\"publisher\"><div><a href=\"/result/publisher?id=Pearson+%2F+Prentice+Hall\"><div class=\"div-link\">Pearson / Prentice Hall</div>,</a><div class=\"div1-no-link\">1967</div></div></span></div>,\n",
       " <div class=\"name-div\"><p><a href=\"/result/title?id=7799660976136\">Molecular Biology of the Cell</a></p><span class=\"name\"><div><a href=\"/result/author?id=Bruce+Alberts\">Bruce Alberts</a></div></span><span class=\"publisher\"><div><a href=\"/result/publisher?id=Garland+Publishing\"><div class=\"div-link\">Garland Publishing</div>,</a><div class=\"div1-no-link\">1983</div></div></span></div>,\n",
       " <div class=\"name-div\"><p><a href=\"/result/title?id=7584912277506\">Heart of Darkness</a></p><span class=\"name\"><div><a href=\"/result/author?id=Joseph+Conrad\">Joseph Conrad</a></div></span><span class=\"publisher\"><div class=\"div-no-link\">Multiple Editions</div></span></div>,\n",
       " <div class=\"name-div\"><p><a href=\"/result/title?id=62543313842187\">Communication Skills Handbook</a></p><span class=\"name\"><div><a href=\"/result/author?id=Jane+Summers\">Jane Summers</a></div></span><span class=\"publisher\"><div class=\"div-no-link\">Multiple Editions</div></span></div>,\n",
       " <div class=\"name-div\"><p><a href=\"/result/title?id=40372692584452\">Advanced Engineering Mathematics</a></p><span class=\"name\"><div><a href=\"/result/author?id=Erwin+Kreyszig\">Erwin Kreyszig</a></div></span><span class=\"publisher\"><div><a href=\"/result/publisher?id=Wiley\"><div class=\"div-link\">Wiley</div>,</a><div class=\"div1-no-link\">1962</div></div></span></div>,\n",
       " <div class=\"name-div\"><p><a href=\"/result/title?id=8564165296084\">Letter From the Birmingham Jail</a></p><span class=\"name\"><div><a href=\"/result/author?id=Martin+Luther+King\">Martin Luther King</a></div></span><span class=\"publisher\"><div class=\"div-no-link\">Multiple Editions</div></span></div>,\n",
       " <div class=\"name-div\"><p><a href=\"/result/title?id=7507602833514\">The Prince</a></p><span class=\"name\"><div><a href=\"/result/author?id=Niccolo+Machiavelli\">Niccolo Machiavelli</a></div></span><span class=\"publisher\"><div class=\"div-no-link\">Multiple Editions</div></span></div>,\n",
       " <div class=\"name-div\"><p><a href=\"/result/title?id=7773890973060\">Meditations on First Philosophy</a></p><span class=\"name\"><div><a href=\"/result/author?id=Rene+Descartes\">Rene Descartes</a></div></span><span class=\"publisher\"><div class=\"div-no-link\">Multiple Editions</div></span></div>,\n",
       " <div class=\"name-div\"><p><a href=\"/result/title?id=34600256537883\">Introduction to Algorithms</a></p><span class=\"name\"><div><a href=\"/result/author?id=Thomas+H.+Cormen\">Thomas H. Cormen</a></div></span><span class=\"publisher\"><div><a href=\"/result/publisher?id=MIT+Press\"><div class=\"div-link\">MIT Press</div>,</a><div class=\"div1-no-link\">1990</div></div></span></div>,\n",
       " <div class=\"name-div\"><p><a href=\"/result/title?id=8065949090762\">The Clash of Civilizations?</a></p><span class=\"name\"><div><a href=\"/result/author?id=Samuel+P.+Huntington\">Samuel P. Huntington</a></div></span><span class=\"publisher\"><div class=\"div-no-link\">Multiple Editions</div></span></div>,\n",
       " <div class=\"name-div\"><p><a href=\"/result/title?id=7980049403911\">Second Treatise of Government</a></p><span class=\"name\"><div><a href=\"/result/author?id=John+Locke\">John Locke</a></div></span><span class=\"publisher\"><div class=\"div-no-link\">Multiple Editions</div></span></div>,\n",
       " <div class=\"name-div\"><p><a href=\"/result/title?id=7507602833427\">Oedipus the King</a></p><span class=\"name\"><div><a href=\"/result/author?id=Sophocles\">Sophocles</a></div></span><span class=\"publisher\"><div class=\"div-no-link\">Multiple Editions</div></span></div>,\n",
       " <div class=\"name-div\"><p><a href=\"/result/title?id=7808251072460\">The Craft of Research</a></p><span class=\"name\"><div><a href=\"/result/author?id=Wayne+C.+Booth\">Wayne C. Booth</a></div></span><span class=\"publisher\"><div><a href=\"/result/publisher?id=University+of+Chicago+Press\"><div class=\"div-link\">University of Chicago Press</div>,</a><div class=\"div1-no-link\">1995</div></div></span></div>,\n",
       " <div class=\"name-div\"><p><a href=\"/result/title?id=32452772891414\">Intermediate Algebra</a></p><span class=\"name\"><div><a href=\"/result/author?id=K.+Elayn+Martin-Gay\">K. Elayn Martin-Gay</a></div></span><span class=\"publisher\"><div><a href=\"/result/publisher?id=Pearson+%2F+Prentice+Hall\"><div class=\"div-link\">Pearson / Prentice Hall</div>,</a><div class=\"div1-no-link\">1993</div></div></span></div>,\n",
       " <div class=\"name-div\"><p><a href=\"/result/title?id=16243566315256\">The Yellow Wallpaper</a></p><span class=\"name\"><div><a href=\"/result/author?id=Charlotte+Perkins+Gilman\">Charlotte Perkins Gilman</a></div></span><span class=\"publisher\"><div class=\"div-no-link\">Multiple Editions</div></span></div>,\n",
       " <div class=\"name-div\"><p><a href=\"/result/title?id=7782481269058\">The Structure of Scientific Revolutions</a></p><span class=\"name\"><div><a href=\"/result/author?id=Thomas+S.+Kuhn\">Thomas S. Kuhn</a></div></span><span class=\"publisher\"><div class=\"div-no-link\">Multiple Editions</div></span></div>,\n",
       " <div class=\"name-div\"><p><a href=\"/result/title?id=33543694584301\">MLA Handbook for Writers of Research Papers</a></p><span class=\"name\"><div><a href=\"/result/author?id=Joseph+Gibaldi\">Joseph Gibaldi</a></div></span><span class=\"publisher\"><div><a href=\"/result/publisher?id=The+Modern+Language+Association+of+America\"><div class=\"div-link\">The Modern Language Association of America</div>,</a><div class=\"div1-no-link\">1977</div></div></span></div>,\n",
       " <div class=\"name-div\"><p><a href=\"/result/title?id=8177618192651\">The Souls of Black Folk</a></p><span class=\"name\"><div><a href=\"/result/author?id=W.+E.+B.+Du+Bois\">W. E. B. Du Bois</a></div></span><span class=\"publisher\"><div class=\"div-no-link\">Multiple Editions</div></span></div>,\n",
       " <div class=\"name-div\"><p><a href=\"/result/title?id=9225590260735\">Pedagogy of the Oppressed</a></p><span class=\"name\"><div><a href=\"/result/author?id=Paulo+Freire\">Paulo Freire</a></div></span><span class=\"publisher\"><div class=\"div-no-link\">Multiple Editions</div></span></div>,\n",
       " <div class=\"name-div\"><p><a href=\"/result/title?id=32899449487478\">Biology</a></p><span class=\"name\"><div><a href=\"/result/author?id=Neil+A.+Campbell\">Neil A. Campbell</a></div></span><span class=\"publisher\"><div><a href=\"/result/publisher?id=Pearson+%2F+Benjamin+Cummings\"><div class=\"div-link\">Pearson / Benjamin Cummings</div>,</a><div class=\"div1-no-link\">1973</div></div></span></div>,\n",
       " <div class=\"name-div\"><p><a href=\"/result/title?id=32495722562184\">The Art of Public Speaking</a></p><span class=\"name\"><div><a href=\"/result/author?id=Stephen+Lucas\">Stephen Lucas</a></div></span><span class=\"publisher\"><div><a href=\"/result/publisher?id=McGraw-Hill\"><div class=\"div-link\">McGraw-Hill</div>,</a><div class=\"div1-no-link\">1983</div></div></span></div>,\n",
       " <div class=\"name-div\"><p><a href=\"/result/title?id=7507602833457\">Poetics</a></p><span class=\"name\"><div><a href=\"/result/author?id=Aristotle\">Aristotle</a></div></span><span class=\"publisher\"><div class=\"div-no-link\">Multiple Editions</div></span></div>,\n",
       " <div class=\"name-div\"><p><a href=\"/result/title?id=7550552512725\">An Inquiry Into the Nature and Causes of the Wealth of Nations</a></p><span class=\"name\"><div><a href=\"/result/author?id=Adam+Smith\">Adam Smith</a></div></span><span class=\"publisher\"><div class=\"div-no-link\">Multiple Editions</div></span></div>,\n",
       " <div class=\"name-div\"><p><a href=\"/result/title?id=7507602833417\">The Odyssey</a></p><span class=\"name\"><div><a href=\"/result/author?id=Homer\">Homer</a></div></span><span class=\"publisher\"><div class=\"div-no-link\">Multiple Editions</div></span></div>,\n",
       " <div class=\"name-div\"><p><a href=\"/result/title?id=34995393528856\">Principles of Anatomy and Physiology</a></p><span class=\"name\"><div><a href=\"/result/author?id=Gerard+J.+Tortora\">Gerard J. Tortora</a></div></span><span class=\"publisher\"><div class=\"div-no-link\">Multiple Editions</div></span></div>,\n",
       " <div class=\"name-div\"><p><a href=\"/result/title?id=33629593929377\">Handbook of Qualitative Research</a></p><span class=\"name\"><div><a href=\"/result/author?id=Norman+K.+Denzin\">Norman K. Denzin</a>, </div><div><a href=\"/result/author?id=Yvonna+S.+Lincoln\">Yvonna S. Lincoln</a></div></span><span class=\"publisher\"><div><a href=\"/result/publisher?id=SAGE\"><div class=\"div-link\">SAGE</div>,</a><div class=\"div1-no-link\">1994</div></div></span></div>,\n",
       " <div class=\"name-div\"><p><a href=\"/result/title?id=54984171325947\">The History of Sexuality</a></p><span class=\"name\"><div><a href=\"/result/author?id=Michel+Foucault\">Michel Foucault</a></div></span><span class=\"publisher\"><div class=\"div-no-link\">Multiple Editions</div></span></div>,\n",
       " <div class=\"name-div\"><p><a href=\"/result/title?id=7627862379468\">A Theory of Justice</a></p><span class=\"name\"><div><a href=\"/result/author?id=John+Rawls\">John Rawls</a></div></span><span class=\"publisher\"><div class=\"div-no-link\">Multiple Editions</div></span></div>,\n",
       " <div class=\"name-div\"><p><a href=\"/result/title?id=33122787788660\">Computer Networks</a></p><span class=\"name\"><div><a href=\"/result/author?id=Andrew+S.+Tanenbaum\">Andrew S. Tanenbaum</a></div></span><span class=\"publisher\"><div><a href=\"/result/publisher?id=Pearson+%2F+Prentice+Hall\"><div class=\"div-link\">Pearson / Prentice Hall</div>,</a><div class=\"div1-no-link\">1981</div></div></span></div>]"
      ]
     },
     "execution_count": 20,
     "metadata": {},
     "output_type": "execute_result"
    }
   ],
   "source": [
    "doc.find_all(class_='name-div')"
   ]
  },
  {
   "cell_type": "markdown",
   "id": "b5eb21f8-4631-4c54-adb4-9e4777d79f5f",
   "metadata": {},
   "source": [
    "Now that we know how to access the page, we can grab the content just like we'd do with a \"normal\" requests/BeautifulSoup page."
   ]
  },
  {
   "cell_type": "code",
   "execution_count": 21,
   "id": "1a6ad91c-511e-4805-b06c-b782b5d115ba",
   "metadata": {},
   "outputs": [
    {
     "name": "stdout",
     "output_type": "stream",
     "text": [
      "----\n",
      "<div class=\"title-item\"><div class=\"rank\">1</div><div class=\"title\"><div class=\"name-div\"><p><a href=\"/result/title?id=9199819950029\">The Elements of Style</a></p><span class=\"name\"><div><a href=\"/result/author?id=William+Strunk\">William Strunk</a></div></span><span class=\"publisher\"><div class=\"div-no-link\">Multiple Editions</div></span></div></div><div class=\"appearances\">15,533</div><div class=\"score\">100</div></div>\n",
      "The Elements of Style\n",
      "William Strunk\n",
      "15,533\n",
      "100\n",
      "----\n",
      "<div class=\"title-item\"><div class=\"rank\">2</div><div class=\"title\"><div class=\"name-div\"><p><a href=\"/result/title?id=33749853015144\">A Writer's Reference</a></p><span class=\"name\"><div><a href=\"/result/author?id=Diana+Hacker\">Diana Hacker</a></div></span><span class=\"publisher\"><div><a href=\"/result/publisher?id=St.+Martin%27s+%2F+Bedford+Books\"><div class=\"div-link\">St. Martin's / Bedford Books</div>,</a><div class=\"div1-no-link\">1989</div></div></span></div></div><div class=\"appearances\">14,931</div><div class=\"score\">100</div></div>\n",
      "A Writer's Reference\n",
      "Diana Hacker\n",
      "14,931\n",
      "100\n",
      "----\n",
      "<div class=\"title-item\"><div class=\"rank\">3</div><div class=\"title\"><div class=\"name-div\"><p><a href=\"/result/title?id=7988639699494\">A Manual for Writers of Term Papers, Theses, and Dissertations</a></p><span class=\"name\"><div><a href=\"/result/author?id=Kate+L.+Turabian\">Kate L. Turabian</a></div></span><span class=\"publisher\"><div><a href=\"/result/publisher?id=University+of+Chicago+Press\"><div class=\"div-link\">University of Chicago Press</div>,</a><div class=\"div1-no-link\">1955</div></div></span></div></div><div class=\"appearances\">13,426</div><div class=\"score\">100</div></div>\n",
      "A Manual for Writers of Term Papers, Theses, and Dissertations\n",
      "Kate L. Turabian\n",
      "13,426\n",
      "100\n",
      "----\n",
      "<div class=\"title-item\"><div class=\"rank\">4</div><div class=\"title\"><div class=\"name-div\"><p><a href=\"/result/title?id=8306467210251\">The Communist Manifesto</a></p><span class=\"name\"><div><a href=\"/result/author?id=Karl+Marx\">Karl Marx</a></div></span><span class=\"publisher\"><div class=\"div-no-link\">Multiple Editions</div></span></div></div><div class=\"appearances\">11,234</div><div class=\"score\">100</div></div>\n",
      "The Communist Manifesto\n",
      "Karl Marx\n",
      "11,234\n",
      "100\n",
      "----\n",
      "<div class=\"title-item\"><div class=\"rank\">5</div><div class=\"title\"><div class=\"name-div\"><p><a href=\"/result/title?id=7636452301400\">The Republic</a></p><span class=\"name\"><div><a href=\"/result/author?id=Plato\">Plato</a></div></span><span class=\"publisher\"><div class=\"div-no-link\">Multiple Editions</div></span></div></div><div class=\"appearances\">9,883</div><div class=\"score\">100</div></div>\n",
      "The Republic\n",
      "Plato\n",
      "9,883\n",
      "100\n",
      "----\n",
      "<div class=\"title-item\"><div class=\"rank\">6</div><div class=\"title\"><div class=\"name-div\"><p><a href=\"/result/title?id=33457795238412\">Calculus</a></p><span class=\"name\"><div><a href=\"/result/author?id=James+Stewart\">James Stewart</a></div></span><span class=\"publisher\"><div><a href=\"/result/publisher?id=Brooks+%2F+Cole\"><div class=\"div-link\">Brooks / Cole</div>,</a><div class=\"div1-no-link\">1987</div></div></span></div></div><div class=\"appearances\">9,682</div><div class=\"score\">100</div></div>\n",
      "Calculus\n",
      "James Stewart\n",
      "9,682\n",
      "100\n",
      "----\n",
      "<div class=\"title-item\"><div class=\"rank\">7</div><div class=\"title\"><div class=\"name-div\"><p><a href=\"/result/title?id=7507602833850\">Frankenstein</a></p><span class=\"name\"><div><a href=\"/result/author?id=Mary+Wollstonecraft+Shelley\">Mary Wollstonecraft Shelley</a></div></span><span class=\"publisher\"><div class=\"div-no-link\">Multiple Editions</div></span></div></div><div class=\"appearances\">9,320</div><div class=\"score\">100</div></div>\n",
      "Frankenstein\n",
      "Mary Wollstonecraft Shelley\n",
      "9,320\n",
      "100\n",
      "----\n",
      "<div class=\"title-item\"><div class=\"rank\">8</div><div class=\"title\"><div class=\"name-div\"><p><a href=\"/result/title?id=7507602833551\">The Canterbury Tales</a></p><span class=\"name\"><div><a href=\"/result/author?id=Geoffrey+Chaucer\">Geoffrey Chaucer</a></div></span><span class=\"publisher\"><div class=\"div-no-link\">Multiple Editions</div></span></div></div><div class=\"appearances\">9,172</div><div class=\"score\">100</div></div>\n",
      "The Canterbury Tales\n",
      "Geoffrey Chaucer\n",
      "9,172\n",
      "100\n",
      "----\n",
      "<div class=\"title-item\"><div class=\"rank\">9</div><div class=\"title\"><div class=\"name-div\"><p><a href=\"/result/title?id=7507602833458\">Nicomachean Ethics</a></p><span class=\"name\"><div><a href=\"/result/author?id=Aristotle\">Aristotle</a></div></span><span class=\"publisher\"><div class=\"div-no-link\">Multiple Editions</div></span></div></div><div class=\"appearances\">9,104</div><div class=\"score\">100</div></div>\n",
      "Nicomachean Ethics\n",
      "Aristotle\n",
      "9,104\n",
      "100\n",
      "----\n",
      "<div class=\"title-item\"><div class=\"rank\">10</div><div class=\"title\"><div class=\"name-div\"><p><a href=\"/result/title?id=32804960208506\">Human Anatomy and Physiology</a></p><span class=\"name\"><div><a href=\"/result/author?id=Elaine+Nicpon+Marieb\">Elaine Nicpon Marieb</a></div></span><span class=\"publisher\"><div class=\"div-no-link\">Multiple Editions</div></span></div></div><div class=\"appearances\">8,507</div><div class=\"score\">100</div></div>\n",
      "Human Anatomy and Physiology\n",
      "Elaine Nicpon Marieb\n",
      "8,507\n",
      "100\n",
      "----\n",
      "<div class=\"title-item\"><div class=\"rank\">11</div><div class=\"title\"><div class=\"name-div\"><p><a href=\"/result/title?id=42305427866233\">Doing Your Research Project: A Guide for First-Time Researchers in Education and Social Science</a></p><span class=\"name\"><div><a href=\"/result/author?id=Judith+Bell\">Judith Bell</a></div></span><span class=\"publisher\"><div><a href=\"/result/publisher?id=Open+University+Press\"><div class=\"div-link\">Open University Press</div>,</a><div class=\"div1-no-link\">1986</div></div></span></div></div><div class=\"appearances\">8,234</div><div class=\"score\">100</div></div>\n",
      "Doing Your Research Project: A Guide for First-Time Researchers in Education and Social Science\n",
      "Judith Bell\n",
      "8,234\n",
      "100\n",
      "----\n",
      "<div class=\"title-item\"><div class=\"rank\">12</div><div class=\"title\"><div class=\"name-div\"><p><a href=\"/result/title?id=40166534153645\">Imagined Communities: Reflections on the Origin and Spread of Nationalism</a></p><span class=\"name\"><div><a href=\"/result/author?id=Benedict+R.+O.%27G.+Anderson\">Benedict R. O.'G. Anderson</a></div></span><span class=\"publisher\"><div><a href=\"/result/publisher?id=Verso+Books\"><div class=\"div-link\">Verso Books</div>,</a><div class=\"div1-no-link\">1983</div></div></span></div></div><div class=\"appearances\">8,082</div><div class=\"score\">100</div></div>\n",
      "Imagined Communities: Reflections on the Origin and Spread of Nationalism\n",
      "Benedict R. O.'G. Anderson\n",
      "8,082\n",
      "100\n",
      "----\n",
      "<div class=\"title-item\"><div class=\"rank\">13</div><div class=\"title\"><div class=\"name-div\"><p><a href=\"/result/title?id=32521492368242\">They Say/I Say: The Moves That Matter in Academic Writing</a></p><span class=\"name\"><div><a href=\"/result/author?id=Gerald+Graff\">Gerald Graff</a></div></span><span class=\"publisher\"><div class=\"div-no-link\">Multiple Editions</div></span></div></div><div class=\"appearances\">8,007</div><div class=\"score\">100</div></div>\n",
      "They Say/I Say: The Moves That Matter in Academic Writing\n",
      "Gerald Graff\n",
      "8,007\n",
      "100\n",
      "----\n",
      "<div class=\"title-item\"><div class=\"rank\">14</div><div class=\"title\"><div class=\"name-div\"><p><a href=\"/result/title?id=7507602833582\">Leviathan</a></p><span class=\"name\"><div><a href=\"/result/author?id=Thomas+Hobbes\">Thomas Hobbes</a></div></span><span class=\"publisher\"><div class=\"div-no-link\">Multiple Editions</div></span></div></div><div class=\"appearances\">7,974</div><div class=\"score\">100</div></div>\n",
      "Leviathan\n",
      "Thomas Hobbes\n",
      "7,974\n",
      "100\n",
      "----\n",
      "<div class=\"title-item\"><div class=\"rank\">15</div><div class=\"title\"><div class=\"name-div\"><p><a href=\"/result/title?id=33028298506521\">A Pocket Style Manual</a></p><span class=\"name\"><div><a href=\"/result/author?id=Diana+Hacker\">Diana Hacker</a></div></span><span class=\"publisher\"><div><a href=\"/result/publisher?id=St.+Martin%27s+%2F+Bedford+Books\"><div class=\"div-link\">St. Martin's / Bedford Books</div>,</a><div class=\"div1-no-link\">1993</div></div></span></div></div><div class=\"appearances\">7,706</div><div class=\"score\">100</div></div>\n",
      "A Pocket Style Manual\n",
      "Diana Hacker\n",
      "7,706\n",
      "100\n",
      "----\n",
      "<div class=\"title-item\"><div class=\"rank\">16</div><div class=\"title\"><div class=\"name-div\"><p><a href=\"/result/title?id=16243566318681\">Discipline and Punish: The Birth of the Prison</a></p><span class=\"name\"><div><a href=\"/result/author?id=Michel+Foucault\">Michel Foucault</a></div></span><span class=\"publisher\"><div class=\"div-no-link\">Multiple Editions</div></span></div></div><div class=\"appearances\">7,583</div><div class=\"score\">100</div></div>\n",
      "Discipline and Punish: The Birth of the Prison\n",
      "Michel Foucault\n",
      "7,583\n",
      "100\n",
      "----\n",
      "<div class=\"title-item\"><div class=\"rank\">17</div><div class=\"title\"><div class=\"name-div\"><p><a href=\"/result/title?id=7868380119082\">The Study Skills Handbook</a></p><span class=\"name\"><div><a href=\"/result/author?id=Stella+Cottrell\">Stella Cottrell</a></div></span><span class=\"publisher\"><div><a href=\"/result/publisher?id=Palgrave+Macmillan\"><div class=\"div-link\">Palgrave Macmillan</div>,</a><div class=\"div1-no-link\">1999</div></div></span></div></div><div class=\"appearances\">7,541</div><div class=\"score\">100</div></div>\n",
      "The Study Skills Handbook\n",
      "Stella Cottrell\n",
      "7,541\n",
      "100\n",
      "----\n",
      "<div class=\"title-item\"><div class=\"rank\">18</div><div class=\"title\"><div class=\"name-div\"><p><a href=\"/result/title?id=8108898763586\">Orientalism</a></p><span class=\"name\"><div><a href=\"/result/author?id=Edward+W.+Said\">Edward W. Said</a></div></span><span class=\"publisher\"><div class=\"div-no-link\">Multiple Editions</div></span></div></div><div class=\"appearances\">7,369</div><div class=\"score\">100</div></div>\n",
      "Orientalism\n",
      "Edward W. Said\n",
      "7,369\n",
      "100\n",
      "----\n",
      "<div class=\"title-item\"><div class=\"rank\">19</div><div class=\"title\"><div class=\"name-div\"><p><a href=\"/result/title?id=33938831573696\">Social Research Methods</a></p><span class=\"name\"><div><a href=\"/result/author?id=Alan+Bryman\">Alan Bryman</a></div></span><span class=\"publisher\"><div><a href=\"/result/publisher?id=Oxford+University+Press\"><div class=\"div-link\">Oxford University Press</div>,</a><div class=\"div1-no-link\">2001</div></div></span></div></div><div class=\"appearances\">7,351</div><div class=\"score\">100</div></div>\n",
      "Social Research Methods\n",
      "Alan Bryman\n",
      "7,351\n",
      "100\n",
      "----\n",
      "<div class=\"title-item\"><div class=\"rank\">20</div><div class=\"title\"><div class=\"name-div\"><p><a href=\"/result/title?id=33466385171310\">Research Design: Qualitative, Quantitative, and Mixed Methods Approaches</a></p><span class=\"name\"><div><a href=\"/result/author?id=John+W.+Creswell\">John W. Creswell</a></div></span><span class=\"publisher\"><div><a href=\"/result/publisher?id=SAGE\"><div class=\"div-link\">SAGE</div>,</a><div class=\"div1-no-link\">1994</div></div></span></div></div><div class=\"appearances\">7,143</div><div class=\"score\">100</div></div>\n",
      "Research Design: Qualitative, Quantitative, and Mixed Methods Approaches\n",
      "John W. Creswell\n",
      "7,143\n",
      "100\n",
      "----\n",
      "<div class=\"title-item\"><div class=\"rank\">21</div><div class=\"title\"><div class=\"name-div\"><p><a href=\"/result/title?id=7507602833603\">Paradise Lost</a></p><span class=\"name\"><div><a href=\"/result/author?id=John+Milton\">John Milton</a></div></span><span class=\"publisher\"><div class=\"div-no-link\">Multiple Editions</div></span></div></div><div class=\"appearances\">7,057</div><div class=\"score\">100</div></div>\n",
      "Paradise Lost\n",
      "John Milton\n",
      "7,057\n",
      "100\n",
      "----\n",
      "<div class=\"title-item\"><div class=\"rank\">22</div><div class=\"title\"><div class=\"name-div\"><p><a href=\"/result/title?id=32581621910019\">Marketing Management</a></p><span class=\"name\"><div><a href=\"/result/author?id=Philip+Kotler\">Philip Kotler</a></div></span><span class=\"publisher\"><div><a href=\"/result/publisher?id=Pearson+%2F+Prentice+Hall\"><div class=\"div-link\">Pearson / Prentice Hall</div>,</a><div class=\"div1-no-link\">1967</div></div></span></div></div><div class=\"appearances\">7,003</div><div class=\"score\">99</div></div>\n",
      "Marketing Management\n",
      "Philip Kotler\n",
      "7,003\n",
      "99\n",
      "----\n",
      "<div class=\"title-item\"><div class=\"rank\">23</div><div class=\"title\"><div class=\"name-div\"><p><a href=\"/result/title?id=7799660976136\">Molecular Biology of the Cell</a></p><span class=\"name\"><div><a href=\"/result/author?id=Bruce+Alberts\">Bruce Alberts</a></div></span><span class=\"publisher\"><div><a href=\"/result/publisher?id=Garland+Publishing\"><div class=\"div-link\">Garland Publishing</div>,</a><div class=\"div1-no-link\">1983</div></div></span></div></div><div class=\"appearances\">6,981</div><div class=\"score\">99</div></div>\n",
      "Molecular Biology of the Cell\n",
      "Bruce Alberts\n",
      "6,981\n",
      "99\n",
      "----\n",
      "<div class=\"title-item\"><div class=\"rank\">24</div><div class=\"title\"><div class=\"name-div\"><p><a href=\"/result/title?id=7584912277506\">Heart of Darkness</a></p><span class=\"name\"><div><a href=\"/result/author?id=Joseph+Conrad\">Joseph Conrad</a></div></span><span class=\"publisher\"><div class=\"div-no-link\">Multiple Editions</div></span></div></div><div class=\"appearances\">6,877</div><div class=\"score\">99</div></div>\n",
      "Heart of Darkness\n",
      "Joseph Conrad\n",
      "6,877\n",
      "99\n",
      "----\n",
      "<div class=\"title-item\"><div class=\"rank\">25</div><div class=\"title\"><div class=\"name-div\"><p><a href=\"/result/title?id=62543313842187\">Communication Skills Handbook</a></p><span class=\"name\"><div><a href=\"/result/author?id=Jane+Summers\">Jane Summers</a></div></span><span class=\"publisher\"><div class=\"div-no-link\">Multiple Editions</div></span></div></div><div class=\"appearances\">6,793</div><div class=\"score\">99</div></div>\n",
      "Communication Skills Handbook\n",
      "Jane Summers\n",
      "6,793\n",
      "99\n",
      "----\n",
      "<div class=\"title-item\"><div class=\"rank\">26</div><div class=\"title\"><div class=\"name-div\"><p><a href=\"/result/title?id=40372692584452\">Advanced Engineering Mathematics</a></p><span class=\"name\"><div><a href=\"/result/author?id=Erwin+Kreyszig\">Erwin Kreyszig</a></div></span><span class=\"publisher\"><div><a href=\"/result/publisher?id=Wiley\"><div class=\"div-link\">Wiley</div>,</a><div class=\"div1-no-link\">1962</div></div></span></div></div><div class=\"appearances\">6,780</div><div class=\"score\">99</div></div>\n",
      "Advanced Engineering Mathematics\n",
      "Erwin Kreyszig\n",
      "6,780\n",
      "99\n",
      "----\n",
      "<div class=\"title-item\"><div class=\"rank\">27</div><div class=\"title\"><div class=\"name-div\"><p><a href=\"/result/title?id=8564165296084\">Letter From the Birmingham Jail</a></p><span class=\"name\"><div><a href=\"/result/author?id=Martin+Luther+King\">Martin Luther King</a></div></span><span class=\"publisher\"><div class=\"div-no-link\">Multiple Editions</div></span></div></div><div class=\"appearances\">6,780</div><div class=\"score\">99</div></div>\n",
      "Letter From the Birmingham Jail\n",
      "Martin Luther King\n",
      "6,780\n",
      "99\n",
      "----\n",
      "<div class=\"title-item\"><div class=\"rank\">28</div><div class=\"title\"><div class=\"name-div\"><p><a href=\"/result/title?id=7507602833514\">The Prince</a></p><span class=\"name\"><div><a href=\"/result/author?id=Niccolo+Machiavelli\">Niccolo Machiavelli</a></div></span><span class=\"publisher\"><div class=\"div-no-link\">Multiple Editions</div></span></div></div><div class=\"appearances\">6,627</div><div class=\"score\">99</div></div>\n",
      "The Prince\n",
      "Niccolo Machiavelli\n",
      "6,627\n",
      "99\n",
      "----\n",
      "<div class=\"title-item\"><div class=\"rank\">29</div><div class=\"title\"><div class=\"name-div\"><p><a href=\"/result/title?id=7773890973060\">Meditations on First Philosophy</a></p><span class=\"name\"><div><a href=\"/result/author?id=Rene+Descartes\">Rene Descartes</a></div></span><span class=\"publisher\"><div class=\"div-no-link\">Multiple Editions</div></span></div></div><div class=\"appearances\">6,285</div><div class=\"score\">99</div></div>\n",
      "Meditations on First Philosophy\n",
      "Rene Descartes\n",
      "6,285\n",
      "99\n",
      "----\n",
      "<div class=\"title-item\"><div class=\"rank\">30</div><div class=\"title\"><div class=\"name-div\"><p><a href=\"/result/title?id=34600256537883\">Introduction to Algorithms</a></p><span class=\"name\"><div><a href=\"/result/author?id=Thomas+H.+Cormen\">Thomas H. Cormen</a></div></span><span class=\"publisher\"><div><a href=\"/result/publisher?id=MIT+Press\"><div class=\"div-link\">MIT Press</div>,</a><div class=\"div1-no-link\">1990</div></div></span></div></div><div class=\"appearances\">6,281</div><div class=\"score\">99</div></div>\n",
      "Introduction to Algorithms\n",
      "Thomas H. Cormen\n",
      "6,281\n",
      "99\n",
      "----\n",
      "<div class=\"title-item\"><div class=\"rank\">31</div><div class=\"title\"><div class=\"name-div\"><p><a href=\"/result/title?id=8065949090762\">The Clash of Civilizations?</a></p><span class=\"name\"><div><a href=\"/result/author?id=Samuel+P.+Huntington\">Samuel P. Huntington</a></div></span><span class=\"publisher\"><div class=\"div-no-link\">Multiple Editions</div></span></div></div><div class=\"appearances\">6,273</div><div class=\"score\">99</div></div>\n",
      "The Clash of Civilizations?\n",
      "Samuel P. Huntington\n",
      "6,273\n",
      "99\n",
      "----\n",
      "<div class=\"title-item\"><div class=\"rank\">32</div><div class=\"title\"><div class=\"name-div\"><p><a href=\"/result/title?id=7980049403911\">Second Treatise of Government</a></p><span class=\"name\"><div><a href=\"/result/author?id=John+Locke\">John Locke</a></div></span><span class=\"publisher\"><div class=\"div-no-link\">Multiple Editions</div></span></div></div><div class=\"appearances\">6,141</div><div class=\"score\">99</div></div>\n",
      "Second Treatise of Government\n",
      "John Locke\n",
      "6,141\n",
      "99\n",
      "----\n",
      "<div class=\"title-item\"><div class=\"rank\">33</div><div class=\"title\"><div class=\"name-div\"><p><a href=\"/result/title?id=7507602833427\">Oedipus the King</a></p><span class=\"name\"><div><a href=\"/result/author?id=Sophocles\">Sophocles</a></div></span><span class=\"publisher\"><div class=\"div-no-link\">Multiple Editions</div></span></div></div><div class=\"appearances\">5,963</div><div class=\"score\">99</div></div>\n",
      "Oedipus the King\n",
      "Sophocles\n",
      "5,963\n",
      "99\n",
      "----\n",
      "<div class=\"title-item\"><div class=\"rank\">34</div><div class=\"title\"><div class=\"name-div\"><p><a href=\"/result/title?id=7808251072460\">The Craft of Research</a></p><span class=\"name\"><div><a href=\"/result/author?id=Wayne+C.+Booth\">Wayne C. Booth</a></div></span><span class=\"publisher\"><div><a href=\"/result/publisher?id=University+of+Chicago+Press\"><div class=\"div-link\">University of Chicago Press</div>,</a><div class=\"div1-no-link\">1995</div></div></span></div></div><div class=\"appearances\">5,917</div><div class=\"score\">99</div></div>\n",
      "The Craft of Research\n",
      "Wayne C. Booth\n",
      "5,917\n",
      "99\n",
      "----\n",
      "<div class=\"title-item\"><div class=\"rank\">35</div><div class=\"title\"><div class=\"name-div\"><p><a href=\"/result/title?id=32452772891414\">Intermediate Algebra</a></p><span class=\"name\"><div><a href=\"/result/author?id=K.+Elayn+Martin-Gay\">K. Elayn Martin-Gay</a></div></span><span class=\"publisher\"><div><a href=\"/result/publisher?id=Pearson+%2F+Prentice+Hall\"><div class=\"div-link\">Pearson / Prentice Hall</div>,</a><div class=\"div1-no-link\">1993</div></div></span></div></div><div class=\"appearances\">5,863</div><div class=\"score\">99</div></div>\n",
      "Intermediate Algebra\n",
      "K. Elayn Martin-Gay\n",
      "5,863\n",
      "99\n",
      "----\n",
      "<div class=\"title-item\"><div class=\"rank\">36</div><div class=\"title\"><div class=\"name-div\"><p><a href=\"/result/title?id=16243566315256\">The Yellow Wallpaper</a></p><span class=\"name\"><div><a href=\"/result/author?id=Charlotte+Perkins+Gilman\">Charlotte Perkins Gilman</a></div></span><span class=\"publisher\"><div class=\"div-no-link\">Multiple Editions</div></span></div></div><div class=\"appearances\">5,818</div><div class=\"score\">99</div></div>\n",
      "The Yellow Wallpaper\n",
      "Charlotte Perkins Gilman\n",
      "5,818\n",
      "99\n",
      "----\n",
      "<div class=\"title-item\"><div class=\"rank\">37</div><div class=\"title\"><div class=\"name-div\"><p><a href=\"/result/title?id=7782481269058\">The Structure of Scientific Revolutions</a></p><span class=\"name\"><div><a href=\"/result/author?id=Thomas+S.+Kuhn\">Thomas S. Kuhn</a></div></span><span class=\"publisher\"><div class=\"div-no-link\">Multiple Editions</div></span></div></div><div class=\"appearances\">5,801</div><div class=\"score\">99</div></div>\n",
      "The Structure of Scientific Revolutions\n",
      "Thomas S. Kuhn\n",
      "5,801\n",
      "99\n",
      "----\n",
      "<div class=\"title-item\"><div class=\"rank\">38</div><div class=\"title\"><div class=\"name-div\"><p><a href=\"/result/title?id=33543694584301\">MLA Handbook for Writers of Research Papers</a></p><span class=\"name\"><div><a href=\"/result/author?id=Joseph+Gibaldi\">Joseph Gibaldi</a></div></span><span class=\"publisher\"><div><a href=\"/result/publisher?id=The+Modern+Language+Association+of+America\"><div class=\"div-link\">The Modern Language Association of America</div>,</a><div class=\"div1-no-link\">1977</div></div></span></div></div><div class=\"appearances\">5,791</div><div class=\"score\">99</div></div>\n",
      "MLA Handbook for Writers of Research Papers\n",
      "Joseph Gibaldi\n",
      "5,791\n",
      "99\n",
      "----\n",
      "<div class=\"title-item\"><div class=\"rank\">39</div><div class=\"title\"><div class=\"name-div\"><p><a href=\"/result/title?id=8177618192651\">The Souls of Black Folk</a></p><span class=\"name\"><div><a href=\"/result/author?id=W.+E.+B.+Du+Bois\">W. E. B. Du Bois</a></div></span><span class=\"publisher\"><div class=\"div-no-link\">Multiple Editions</div></span></div></div><div class=\"appearances\">5,790</div><div class=\"score\">99</div></div>\n",
      "The Souls of Black Folk\n",
      "W. E. B. Du Bois\n",
      "5,790\n",
      "99\n",
      "----\n",
      "<div class=\"title-item\"><div class=\"rank\">40</div><div class=\"title\"><div class=\"name-div\"><p><a href=\"/result/title?id=9225590260735\">Pedagogy of the Oppressed</a></p><span class=\"name\"><div><a href=\"/result/author?id=Paulo+Freire\">Paulo Freire</a></div></span><span class=\"publisher\"><div class=\"div-no-link\">Multiple Editions</div></span></div></div><div class=\"appearances\">5,784</div><div class=\"score\">99</div></div>\n",
      "Pedagogy of the Oppressed\n",
      "Paulo Freire\n",
      "5,784\n",
      "99\n",
      "----\n",
      "<div class=\"title-item\"><div class=\"rank\">41</div><div class=\"title\"><div class=\"name-div\"><p><a href=\"/result/title?id=32899449487478\">Biology</a></p><span class=\"name\"><div><a href=\"/result/author?id=Neil+A.+Campbell\">Neil A. Campbell</a></div></span><span class=\"publisher\"><div><a href=\"/result/publisher?id=Pearson+%2F+Benjamin+Cummings\"><div class=\"div-link\">Pearson / Benjamin Cummings</div>,</a><div class=\"div1-no-link\">1973</div></div></span></div></div><div class=\"appearances\">5,766</div><div class=\"score\">99</div></div>\n",
      "Biology\n",
      "Neil A. Campbell\n",
      "5,766\n",
      "99\n",
      "----\n",
      "<div class=\"title-item\"><div class=\"rank\">42</div><div class=\"title\"><div class=\"name-div\"><p><a href=\"/result/title?id=32495722562184\">The Art of Public Speaking</a></p><span class=\"name\"><div><a href=\"/result/author?id=Stephen+Lucas\">Stephen Lucas</a></div></span><span class=\"publisher\"><div><a href=\"/result/publisher?id=McGraw-Hill\"><div class=\"div-link\">McGraw-Hill</div>,</a><div class=\"div1-no-link\">1983</div></div></span></div></div><div class=\"appearances\">5,567</div><div class=\"score\">99</div></div>\n",
      "The Art of Public Speaking\n",
      "Stephen Lucas\n",
      "5,567\n",
      "99\n",
      "----\n",
      "<div class=\"title-item\"><div class=\"rank\">43</div><div class=\"title\"><div class=\"name-div\"><p><a href=\"/result/title?id=7507602833457\">Poetics</a></p><span class=\"name\"><div><a href=\"/result/author?id=Aristotle\">Aristotle</a></div></span><span class=\"publisher\"><div class=\"div-no-link\">Multiple Editions</div></span></div></div><div class=\"appearances\">5,563</div><div class=\"score\">99</div></div>\n",
      "Poetics\n",
      "Aristotle\n",
      "5,563\n",
      "99\n",
      "----\n",
      "<div class=\"title-item\"><div class=\"rank\">44</div><div class=\"title\"><div class=\"name-div\"><p><a href=\"/result/title?id=7550552512725\">An Inquiry Into the Nature and Causes of the Wealth of Nations</a></p><span class=\"name\"><div><a href=\"/result/author?id=Adam+Smith\">Adam Smith</a></div></span><span class=\"publisher\"><div class=\"div-no-link\">Multiple Editions</div></span></div></div><div class=\"appearances\">5,546</div><div class=\"score\">98</div></div>\n",
      "An Inquiry Into the Nature and Causes of the Wealth of Nations\n",
      "Adam Smith\n",
      "5,546\n",
      "98\n",
      "----\n",
      "<div class=\"title-item\"><div class=\"rank\">45</div><div class=\"title\"><div class=\"name-div\"><p><a href=\"/result/title?id=7507602833417\">The Odyssey</a></p><span class=\"name\"><div><a href=\"/result/author?id=Homer\">Homer</a></div></span><span class=\"publisher\"><div class=\"div-no-link\">Multiple Editions</div></span></div></div><div class=\"appearances\">5,391</div><div class=\"score\">98</div></div>\n",
      "The Odyssey\n",
      "Homer\n",
      "5,391\n",
      "98\n",
      "----\n",
      "<div class=\"title-item\"><div class=\"rank\">46</div><div class=\"title\"><div class=\"name-div\"><p><a href=\"/result/title?id=34995393528856\">Principles of Anatomy and Physiology</a></p><span class=\"name\"><div><a href=\"/result/author?id=Gerard+J.+Tortora\">Gerard J. Tortora</a></div></span><span class=\"publisher\"><div class=\"div-no-link\">Multiple Editions</div></span></div></div><div class=\"appearances\">5,375</div><div class=\"score\">98</div></div>\n",
      "Principles of Anatomy and Physiology\n",
      "Gerard J. Tortora\n",
      "5,375\n",
      "98\n",
      "----\n",
      "<div class=\"title-item\"><div class=\"rank\">47</div><div class=\"title\"><div class=\"name-div\"><p><a href=\"/result/title?id=33629593929377\">Handbook of Qualitative Research</a></p><span class=\"name\"><div><a href=\"/result/author?id=Norman+K.+Denzin\">Norman K. Denzin</a>, </div><div><a href=\"/result/author?id=Yvonna+S.+Lincoln\">Yvonna S. Lincoln</a></div></span><span class=\"publisher\"><div><a href=\"/result/publisher?id=SAGE\"><div class=\"div-link\">SAGE</div>,</a><div class=\"div1-no-link\">1994</div></div></span></div></div><div class=\"appearances\">5,273</div><div class=\"score\">98</div></div>\n",
      "Handbook of Qualitative Research\n",
      "Norman K. Denzin, Yvonna S. Lincoln\n",
      "5,273\n",
      "98\n",
      "----\n",
      "<div class=\"title-item\"><div class=\"rank\">48</div><div class=\"title\"><div class=\"name-div\"><p><a href=\"/result/title?id=54984171325947\">The History of Sexuality</a></p><span class=\"name\"><div><a href=\"/result/author?id=Michel+Foucault\">Michel Foucault</a></div></span><span class=\"publisher\"><div class=\"div-no-link\">Multiple Editions</div></span></div></div><div class=\"appearances\">5,268</div><div class=\"score\">98</div></div>\n",
      "The History of Sexuality\n",
      "Michel Foucault\n",
      "5,268\n",
      "98\n",
      "----\n",
      "<div class=\"title-item\"><div class=\"rank\">49</div><div class=\"title\"><div class=\"name-div\"><p><a href=\"/result/title?id=7627862379468\">A Theory of Justice</a></p><span class=\"name\"><div><a href=\"/result/author?id=John+Rawls\">John Rawls</a></div></span><span class=\"publisher\"><div class=\"div-no-link\">Multiple Editions</div></span></div></div><div class=\"appearances\">5,228</div><div class=\"score\">98</div></div>\n",
      "A Theory of Justice\n",
      "John Rawls\n",
      "5,228\n",
      "98\n",
      "----\n",
      "<div class=\"title-item\"><div class=\"rank\">50</div><div class=\"title\"><div class=\"name-div\"><p><a href=\"/result/title?id=33122787788660\">Computer Networks</a></p><span class=\"name\"><div><a href=\"/result/author?id=Andrew+S.+Tanenbaum\">Andrew S. Tanenbaum</a></div></span><span class=\"publisher\"><div><a href=\"/result/publisher?id=Pearson+%2F+Prentice+Hall\"><div class=\"div-link\">Pearson / Prentice Hall</div>,</a><div class=\"div1-no-link\">1981</div></div></span></div></div><div class=\"appearances\">5,197</div><div class=\"score\">98</div></div>\n",
      "Computer Networks\n",
      "Andrew S. Tanenbaum\n",
      "5,197\n",
      "98\n"
     ]
    }
   ],
   "source": [
    "books = doc.find_all('div', class_='title-item')\n",
    "\n",
    "for book in books:\n",
    "    print(\"----\")\n",
    "    print(book)\n",
    "    print(book.find('a').text)\n",
    "    print(book.find('span', class_='name').text)\n",
    "    print(book.find(class_='appearances').text)\n",
    "    print(book.find(class_='score').text)"
   ]
  },
  {
   "cell_type": "code",
   "execution_count": 22,
   "id": "c87231e3-1ffe-47fa-b655-ec5a1dfe2ad9",
   "metadata": {},
   "outputs": [
    {
     "data": {
      "text/plain": [
       "[{'name': 'The Elements of Style',\n",
       "  'author': 'William Strunk',\n",
       "  'appearances': '15,533',\n",
       "  'score': '100'},\n",
       " {'name': \"A Writer's Reference\",\n",
       "  'author': 'Diana Hacker',\n",
       "  'appearances': '14,931',\n",
       "  'score': '100'},\n",
       " {'name': 'A Manual for Writers of Term Papers, Theses, and Dissertations',\n",
       "  'author': 'Kate L. Turabian',\n",
       "  'appearances': '13,426',\n",
       "  'score': '100'},\n",
       " {'name': 'The Communist Manifesto',\n",
       "  'author': 'Karl Marx',\n",
       "  'appearances': '11,234',\n",
       "  'score': '100'},\n",
       " {'name': 'The Republic',\n",
       "  'author': 'Plato',\n",
       "  'appearances': '9,883',\n",
       "  'score': '100'},\n",
       " {'name': 'Calculus',\n",
       "  'author': 'James Stewart',\n",
       "  'appearances': '9,682',\n",
       "  'score': '100'},\n",
       " {'name': 'Frankenstein',\n",
       "  'author': 'Mary Wollstonecraft Shelley',\n",
       "  'appearances': '9,320',\n",
       "  'score': '100'},\n",
       " {'name': 'The Canterbury Tales',\n",
       "  'author': 'Geoffrey Chaucer',\n",
       "  'appearances': '9,172',\n",
       "  'score': '100'},\n",
       " {'name': 'Nicomachean Ethics',\n",
       "  'author': 'Aristotle',\n",
       "  'appearances': '9,104',\n",
       "  'score': '100'},\n",
       " {'name': 'Human Anatomy and Physiology',\n",
       "  'author': 'Elaine Nicpon Marieb',\n",
       "  'appearances': '8,507',\n",
       "  'score': '100'},\n",
       " {'name': 'Doing Your Research Project: A Guide for First-Time Researchers in Education and Social Science',\n",
       "  'author': 'Judith Bell',\n",
       "  'appearances': '8,234',\n",
       "  'score': '100'},\n",
       " {'name': 'Imagined Communities: Reflections on the Origin and Spread of Nationalism',\n",
       "  'author': \"Benedict R. O.'G. Anderson\",\n",
       "  'appearances': '8,082',\n",
       "  'score': '100'},\n",
       " {'name': 'They Say/I Say: The Moves That Matter in Academic Writing',\n",
       "  'author': 'Gerald Graff',\n",
       "  'appearances': '8,007',\n",
       "  'score': '100'},\n",
       " {'name': 'Leviathan',\n",
       "  'author': 'Thomas Hobbes',\n",
       "  'appearances': '7,974',\n",
       "  'score': '100'},\n",
       " {'name': 'A Pocket Style Manual',\n",
       "  'author': 'Diana Hacker',\n",
       "  'appearances': '7,706',\n",
       "  'score': '100'},\n",
       " {'name': 'Discipline and Punish: The Birth of the Prison',\n",
       "  'author': 'Michel Foucault',\n",
       "  'appearances': '7,583',\n",
       "  'score': '100'},\n",
       " {'name': 'The Study Skills Handbook',\n",
       "  'author': 'Stella Cottrell',\n",
       "  'appearances': '7,541',\n",
       "  'score': '100'},\n",
       " {'name': 'Orientalism',\n",
       "  'author': 'Edward W. Said',\n",
       "  'appearances': '7,369',\n",
       "  'score': '100'},\n",
       " {'name': 'Social Research Methods',\n",
       "  'author': 'Alan Bryman',\n",
       "  'appearances': '7,351',\n",
       "  'score': '100'},\n",
       " {'name': 'Research Design: Qualitative, Quantitative, and Mixed Methods Approaches',\n",
       "  'author': 'John W. Creswell',\n",
       "  'appearances': '7,143',\n",
       "  'score': '100'},\n",
       " {'name': 'Paradise Lost',\n",
       "  'author': 'John Milton',\n",
       "  'appearances': '7,057',\n",
       "  'score': '100'},\n",
       " {'name': 'Marketing Management',\n",
       "  'author': 'Philip Kotler',\n",
       "  'appearances': '7,003',\n",
       "  'score': '99'},\n",
       " {'name': 'Molecular Biology of the Cell',\n",
       "  'author': 'Bruce Alberts',\n",
       "  'appearances': '6,981',\n",
       "  'score': '99'},\n",
       " {'name': 'Heart of Darkness',\n",
       "  'author': 'Joseph Conrad',\n",
       "  'appearances': '6,877',\n",
       "  'score': '99'},\n",
       " {'name': 'Communication Skills Handbook',\n",
       "  'author': 'Jane Summers',\n",
       "  'appearances': '6,793',\n",
       "  'score': '99'},\n",
       " {'name': 'Advanced Engineering Mathematics',\n",
       "  'author': 'Erwin Kreyszig',\n",
       "  'appearances': '6,780',\n",
       "  'score': '99'},\n",
       " {'name': 'Letter From the Birmingham Jail',\n",
       "  'author': 'Martin Luther King',\n",
       "  'appearances': '6,780',\n",
       "  'score': '99'},\n",
       " {'name': 'The Prince',\n",
       "  'author': 'Niccolo Machiavelli',\n",
       "  'appearances': '6,627',\n",
       "  'score': '99'},\n",
       " {'name': 'Meditations on First Philosophy',\n",
       "  'author': 'Rene Descartes',\n",
       "  'appearances': '6,285',\n",
       "  'score': '99'},\n",
       " {'name': 'Introduction to Algorithms',\n",
       "  'author': 'Thomas H. Cormen',\n",
       "  'appearances': '6,281',\n",
       "  'score': '99'},\n",
       " {'name': 'The Clash of Civilizations?',\n",
       "  'author': 'Samuel P. Huntington',\n",
       "  'appearances': '6,273',\n",
       "  'score': '99'},\n",
       " {'name': 'Second Treatise of Government',\n",
       "  'author': 'John Locke',\n",
       "  'appearances': '6,141',\n",
       "  'score': '99'},\n",
       " {'name': 'Oedipus the King',\n",
       "  'author': 'Sophocles',\n",
       "  'appearances': '5,963',\n",
       "  'score': '99'},\n",
       " {'name': 'The Craft of Research',\n",
       "  'author': 'Wayne C. Booth',\n",
       "  'appearances': '5,917',\n",
       "  'score': '99'},\n",
       " {'name': 'Intermediate Algebra',\n",
       "  'author': 'K. Elayn Martin-Gay',\n",
       "  'appearances': '5,863',\n",
       "  'score': '99'},\n",
       " {'name': 'The Yellow Wallpaper',\n",
       "  'author': 'Charlotte Perkins Gilman',\n",
       "  'appearances': '5,818',\n",
       "  'score': '99'},\n",
       " {'name': 'The Structure of Scientific Revolutions',\n",
       "  'author': 'Thomas S. Kuhn',\n",
       "  'appearances': '5,801',\n",
       "  'score': '99'},\n",
       " {'name': 'MLA Handbook for Writers of Research Papers',\n",
       "  'author': 'Joseph Gibaldi',\n",
       "  'appearances': '5,791',\n",
       "  'score': '99'},\n",
       " {'name': 'The Souls of Black Folk',\n",
       "  'author': 'W. E. B. Du Bois',\n",
       "  'appearances': '5,790',\n",
       "  'score': '99'},\n",
       " {'name': 'Pedagogy of the Oppressed',\n",
       "  'author': 'Paulo Freire',\n",
       "  'appearances': '5,784',\n",
       "  'score': '99'},\n",
       " {'name': 'Biology',\n",
       "  'author': 'Neil A. Campbell',\n",
       "  'appearances': '5,766',\n",
       "  'score': '99'},\n",
       " {'name': 'The Art of Public Speaking',\n",
       "  'author': 'Stephen Lucas',\n",
       "  'appearances': '5,567',\n",
       "  'score': '99'},\n",
       " {'name': 'Poetics',\n",
       "  'author': 'Aristotle',\n",
       "  'appearances': '5,563',\n",
       "  'score': '99'},\n",
       " {'name': 'An Inquiry Into the Nature and Causes of the Wealth of Nations',\n",
       "  'author': 'Adam Smith',\n",
       "  'appearances': '5,546',\n",
       "  'score': '98'},\n",
       " {'name': 'The Odyssey',\n",
       "  'author': 'Homer',\n",
       "  'appearances': '5,391',\n",
       "  'score': '98'},\n",
       " {'name': 'Principles of Anatomy and Physiology',\n",
       "  'author': 'Gerard J. Tortora',\n",
       "  'appearances': '5,375',\n",
       "  'score': '98'},\n",
       " {'name': 'Handbook of Qualitative Research',\n",
       "  'author': 'Norman K. Denzin,\\xa0Yvonna S. Lincoln',\n",
       "  'appearances': '5,273',\n",
       "  'score': '98'},\n",
       " {'name': 'The History of Sexuality',\n",
       "  'author': 'Michel Foucault',\n",
       "  'appearances': '5,268',\n",
       "  'score': '98'},\n",
       " {'name': 'A Theory of Justice',\n",
       "  'author': 'John Rawls',\n",
       "  'appearances': '5,228',\n",
       "  'score': '98'},\n",
       " {'name': 'Computer Networks',\n",
       "  'author': 'Andrew S. Tanenbaum',\n",
       "  'appearances': '5,197',\n",
       "  'score': '98'}]"
      ]
     },
     "execution_count": 22,
     "metadata": {},
     "output_type": "execute_result"
    }
   ],
   "source": [
    "books = doc.find_all('div', class_='title-item')\n",
    "\n",
    "all_data = []\n",
    "for book in books:\n",
    "    data = {\n",
    "        'name': book.find('a').text,\n",
    "        'author': book.find('span', class_='name').text,\n",
    "        'appearances': book.find(class_='appearances').text,\n",
    "        'score': book.find(class_='score').text\n",
    "    }\n",
    "    all_data.append(data)\n",
    "\n",
    "all_data"
   ]
  },
  {
   "cell_type": "markdown",
   "id": "2bf3a5f7-cf7c-47ab-bafc-f5b4edb848c8",
   "metadata": {},
   "source": [
    "And then we can do all anyone ever wants to do, which is convert it into a spreadsheet!"
   ]
  },
  {
   "cell_type": "code",
   "execution_count": 23,
   "id": "c2ddb0f6-096b-4aa3-97cd-91b2319d3535",
   "metadata": {},
   "outputs": [
    {
     "data": {
      "text/html": [
       "<div>\n",
       "<style scoped>\n",
       "    .dataframe tbody tr th:only-of-type {\n",
       "        vertical-align: middle;\n",
       "    }\n",
       "\n",
       "    .dataframe tbody tr th {\n",
       "        vertical-align: top;\n",
       "    }\n",
       "\n",
       "    .dataframe thead th {\n",
       "        text-align: right;\n",
       "    }\n",
       "</style>\n",
       "<table border=\"1\" class=\"dataframe\">\n",
       "  <thead>\n",
       "    <tr style=\"text-align: right;\">\n",
       "      <th></th>\n",
       "      <th>name</th>\n",
       "      <th>author</th>\n",
       "      <th>appearances</th>\n",
       "      <th>score</th>\n",
       "    </tr>\n",
       "  </thead>\n",
       "  <tbody>\n",
       "    <tr>\n",
       "      <th>0</th>\n",
       "      <td>The Elements of Style</td>\n",
       "      <td>William Strunk</td>\n",
       "      <td>15,533</td>\n",
       "      <td>100</td>\n",
       "    </tr>\n",
       "    <tr>\n",
       "      <th>1</th>\n",
       "      <td>A Writer's Reference</td>\n",
       "      <td>Diana Hacker</td>\n",
       "      <td>14,931</td>\n",
       "      <td>100</td>\n",
       "    </tr>\n",
       "    <tr>\n",
       "      <th>2</th>\n",
       "      <td>A Manual for Writers of Term Papers, Theses, a...</td>\n",
       "      <td>Kate L. Turabian</td>\n",
       "      <td>13,426</td>\n",
       "      <td>100</td>\n",
       "    </tr>\n",
       "    <tr>\n",
       "      <th>3</th>\n",
       "      <td>The Communist Manifesto</td>\n",
       "      <td>Karl Marx</td>\n",
       "      <td>11,234</td>\n",
       "      <td>100</td>\n",
       "    </tr>\n",
       "    <tr>\n",
       "      <th>4</th>\n",
       "      <td>The Republic</td>\n",
       "      <td>Plato</td>\n",
       "      <td>9,883</td>\n",
       "      <td>100</td>\n",
       "    </tr>\n",
       "  </tbody>\n",
       "</table>\n",
       "</div>"
      ],
      "text/plain": [
       "                                                name            author  \\\n",
       "0                              The Elements of Style    William Strunk   \n",
       "1                               A Writer's Reference      Diana Hacker   \n",
       "2  A Manual for Writers of Term Papers, Theses, a...  Kate L. Turabian   \n",
       "3                            The Communist Manifesto         Karl Marx   \n",
       "4                                       The Republic             Plato   \n",
       "\n",
       "  appearances score  \n",
       "0      15,533   100  \n",
       "1      14,931   100  \n",
       "2      13,426   100  \n",
       "3      11,234   100  \n",
       "4       9,883   100  "
      ]
     },
     "execution_count": 23,
     "metadata": {},
     "output_type": "execute_result"
    }
   ],
   "source": [
    "import pandas as pd\n",
    "\n",
    "df = pd.DataFrame(all_data)\n",
    "df.head()"
   ]
  },
  {
   "cell_type": "markdown",
   "id": "90be0f08-2c26-4935-a2f0-942d1ba1439d",
   "metadata": {},
   "source": [
    "## Interacting with the page\n",
    "\n",
    "If we scroll down a bit, we see that the page **only lists the top 50 books**. We want more than that! And we get that by clicking the \"Show More\" button.\n",
    "\n",
    "Playwright makes it easy with `page.get_by_text` and `.click()`"
   ]
  },
  {
   "cell_type": "code",
   "execution_count": 24,
   "id": "9ae9ccc3-bbe7-45e1-a26c-fa25f235ef0e",
   "metadata": {},
   "outputs": [],
   "source": [
    "await page.get_by_text(\"Show more\").click()"
   ]
  },
  {
   "cell_type": "markdown",
   "id": "9328edaa-ce8e-45f9-bb6d-1be778628a6e",
   "metadata": {},
   "source": [
    "Notice that we didn't have to scroll down! If you're used to Selenium, it would lose its mind whenever you tried to click something that wasn't on the page. Playwright doesn't care, it finds it and clicks it!\n",
    "\n",
    "If we want to click three times? Ten times? Just write a loop!"
   ]
  },
  {
   "cell_type": "code",
   "execution_count": 25,
   "id": "cfcd000d-50d9-4fea-9fde-5d831d914cc8",
   "metadata": {},
   "outputs": [],
   "source": [
    "for _ in range(3):\n",
    "    await page.get_by_text(\"Show more\").click()"
   ]
  },
  {
   "cell_type": "markdown",
   "id": "533b2dff-b8f3-4086-b849-77e8fba950e2",
   "metadata": {},
   "source": [
    "Notice that you **didn't have to wait for the content to load**. Selenium loves to throw errors if you try to click content that isn't on the page – Playwright doesn't care, it just waits for it to show up! This can be a pain if you had a typo and have to wait 30-60 seconds for Playwright to say \"maybe you made a mistake,\" but I think we can live with that."
   ]
  },
  {
   "cell_type": "markdown",
   "id": "33924826-c9e7-4fec-9268-7a950048c885",
   "metadata": {},
   "source": [
    "## Filling out forms\n",
    "\n",
    "Let's try another page where we need to fill out some forms. The [North Dakota well search page](https://www.dmr.nd.gov/oilgas/findwellsvw.asp) is a good one!"
   ]
  },
  {
   "cell_type": "code",
   "execution_count": 26,
   "id": "507c0a14-4f7d-46b4-b4da-4adc8a6ce0d2",
   "metadata": {},
   "outputs": [],
   "source": [
    "# Imports\n",
    "from playwright.async_api import async_playwright\n",
    "\n",
    "playwright = await async_playwright().start()\n",
    "browser = await playwright.chromium.launch(headless = False)\n",
    "page = await browser.new_page()\n",
    "\n",
    "await page.goto(\"https://www.dmr.nd.gov/oilgas/findwellsvw.asp\")"
   ]
  },
  {
   "cell_type": "markdown",
   "id": "12495b9a-b340-40d5-a1a2-18b64b92e726",
   "metadata": {},
   "source": [
    "Selecting from dropdowns is easy! Instead of importing a thousand additional tools (*cough Selenium cough*) we can just use `.select_option`.\n",
    "\n",
    "What element on the page do we select? I don't know, and I don't care! An easy shortcut is to guess incorrectly – Playwright will automatically provide you with some options. If I try to just find all of the `select` fields...\n",
    "\n",
    "```python\n",
    "await page.locator(\"select\").select_option('135')\n",
    "```\n",
    "\n",
    "...it gives me a few ideas for what I *should* have done.\n",
    "\n",
    "```\n",
    "1) <select size=\"1\" id=\"ddmOperator\" name=\"ddmOperator\">…</select> aka get_by_label(\"Operator:\")\n",
    "2) <select size=\"1\" id=\"ddmField\" name=\"ddmField\">…</select> aka get_by_label(\"Field:\")\n",
    "3) <select size=\"1\" id=\"ddmSection\" name=\"ddmSection\">…</select> aka get_by_label(\"Section:\")\n",
    "4) <select size=\"1\" id=\"ddmTownship\" name=\"ddmTownship\">…</select> aka get_by_label(\"Township:\")\n",
    "5) <select size=\"1\" id=\"ddmRange\" name=\"ddmRange\">…</select> aka get_by_label(\"Range:\")\n",
    "```\n",
    "\n",
    "I think `get_by_label(\"Township:\")` seems good!"
   ]
  },
  {
   "cell_type": "code",
   "execution_count": 29,
   "id": "6dcce6d7-69e5-4712-90d1-f06c23d12c5f",
   "metadata": {},
   "outputs": [
    {
     "data": {
      "text/plain": [
       "['135']"
      ]
     },
     "execution_count": 29,
     "metadata": {},
     "output_type": "execute_result"
    }
   ],
   "source": [
    "await page.get_by_label(\"Township:\").select_option('135')"
   ]
  },
  {
   "cell_type": "code",
   "execution_count": 32,
   "id": "227878e5-3191-413b-a550-736c48e549f2",
   "metadata": {},
   "outputs": [],
   "source": [
    "# await page.get_by_text(\"Submit\").click()\n",
    "await page.get_by_role(\"button\", name=\"Submit\").click()"
   ]
  },
  {
   "cell_type": "markdown",
   "id": "f77cb749-5520-4b74-85cd-b97aa010d94d",
   "metadata": {},
   "source": [
    "Since the data is a table, we can actually feed the HTML directly into pandas."
   ]
  },
  {
   "cell_type": "code",
   "execution_count": 33,
   "id": "8d6c6c71-be72-4cbe-939b-c8046285b4e7",
   "metadata": {},
   "outputs": [
    {
     "name": "stderr",
     "output_type": "stream",
     "text": [
      "/var/folders/_m/b8tjbm6n4zs1q2mvjvg25x1m0000gn/T/ipykernel_48736/539925845.py:2: FutureWarning: Passing literal html to 'read_html' is deprecated and will be removed in a future version. To read from a literal string, wrap it in a 'StringIO' object.\n",
      "  tables = pd.read_html(html_content)\n"
     ]
    },
    {
     "data": {
      "text/plain": [
       "3"
      ]
     },
     "execution_count": 33,
     "metadata": {},
     "output_type": "execute_result"
    }
   ],
   "source": [
    "html_content = await page.content()\n",
    "tables = pd.read_html(html_content)\n",
    "len(tables)"
   ]
  },
  {
   "cell_type": "markdown",
   "id": "3d7fd397-38ec-4c09-b3a4-d8e26631fb62",
   "metadata": {},
   "source": [
    "With some experimentation we can figure out it's the third table."
   ]
  },
  {
   "cell_type": "code",
   "execution_count": 37,
   "id": "350a6d5e-731a-40c1-bc77-20c2a68831d3",
   "metadata": {},
   "outputs": [
    {
     "data": {
      "text/html": [
       "<div>\n",
       "<style scoped>\n",
       "    .dataframe tbody tr th:only-of-type {\n",
       "        vertical-align: middle;\n",
       "    }\n",
       "\n",
       "    .dataframe tbody tr th {\n",
       "        vertical-align: top;\n",
       "    }\n",
       "\n",
       "    .dataframe thead th {\n",
       "        text-align: right;\n",
       "    }\n",
       "</style>\n",
       "<table border=\"1\" class=\"dataframe\">\n",
       "  <thead>\n",
       "    <tr style=\"text-align: right;\">\n",
       "      <th></th>\n",
       "      <th>File No</th>\n",
       "      <th>CTB No</th>\n",
       "      <th>API No</th>\n",
       "      <th>Well Type</th>\n",
       "      <th>Well Status</th>\n",
       "      <th>Status Date</th>\n",
       "      <th>DTD</th>\n",
       "      <th>Location</th>\n",
       "      <th>Operator</th>\n",
       "      <th>Well Name</th>\n",
       "      <th>Field</th>\n",
       "    </tr>\n",
       "  </thead>\n",
       "  <tbody>\n",
       "    <tr>\n",
       "      <th>0</th>\n",
       "      <td>1355</td>\n",
       "      <td>NaN</td>\n",
       "      <td>3304700007</td>\n",
       "      <td>OG</td>\n",
       "      <td>DRY</td>\n",
       "      <td>2/1/1957</td>\n",
       "      <td>3200.0</td>\n",
       "      <td>NWNW 11-135-72</td>\n",
       "      <td>CALVERT DRILLING, INC.</td>\n",
       "      <td>ARNOLD GERBER 1</td>\n",
       "      <td>WILDCAT</td>\n",
       "    </tr>\n",
       "    <tr>\n",
       "      <th>1</th>\n",
       "      <td>5523</td>\n",
       "      <td>NaN</td>\n",
       "      <td>3304700020</td>\n",
       "      <td>OG</td>\n",
       "      <td>DRY</td>\n",
       "      <td>11/9/1974</td>\n",
       "      <td>5320.0</td>\n",
       "      <td>NWNW 29-135-73</td>\n",
       "      <td>WISE OIL COMPANY NO. 2 ET AL</td>\n",
       "      <td>BALTZER A. WEIGEL 1</td>\n",
       "      <td>WILDCAT</td>\n",
       "    </tr>\n",
       "    <tr>\n",
       "      <th>2</th>\n",
       "      <td>10369</td>\n",
       "      <td>NaN</td>\n",
       "      <td>3302900028</td>\n",
       "      <td>OG</td>\n",
       "      <td>DRY</td>\n",
       "      <td>10/11/1983</td>\n",
       "      <td>4000.0</td>\n",
       "      <td>NWNE 22-135-74</td>\n",
       "      <td>ARKLA EXPLORATION CO.</td>\n",
       "      <td>ELLEFSON 1</td>\n",
       "      <td>WILDCAT</td>\n",
       "    </tr>\n",
       "    <tr>\n",
       "      <th>3</th>\n",
       "      <td>10173</td>\n",
       "      <td>NaN</td>\n",
       "      <td>3302900027</td>\n",
       "      <td>OG</td>\n",
       "      <td>DRY</td>\n",
       "      <td>6/24/1983</td>\n",
       "      <td>5865.0</td>\n",
       "      <td>SWSW 14-135-76</td>\n",
       "      <td>SOUTHWESTERN ENERGY PRODUCTION CO.</td>\n",
       "      <td>BEASTROM 1-14</td>\n",
       "      <td>WILDCAT</td>\n",
       "    </tr>\n",
       "    <tr>\n",
       "      <th>4</th>\n",
       "      <td>16476</td>\n",
       "      <td>NaN</td>\n",
       "      <td>3302900032</td>\n",
       "      <td>GASD</td>\n",
       "      <td>DRY</td>\n",
       "      <td>11/13/2009</td>\n",
       "      <td>1691.0</td>\n",
       "      <td>SESE 15-135-76</td>\n",
       "      <td>STAGHORN ENERGY, LLC</td>\n",
       "      <td>WEISER 1-15</td>\n",
       "      <td>WILDCAT</td>\n",
       "    </tr>\n",
       "  </tbody>\n",
       "</table>\n",
       "</div>"
      ],
      "text/plain": [
       "   File No  CTB No      API No Well Type Well Status Status Date     DTD  \\\n",
       "0     1355     NaN  3304700007        OG         DRY    2/1/1957  3200.0   \n",
       "1     5523     NaN  3304700020        OG         DRY   11/9/1974  5320.0   \n",
       "2    10369     NaN  3302900028        OG         DRY  10/11/1983  4000.0   \n",
       "3    10173     NaN  3302900027        OG         DRY   6/24/1983  5865.0   \n",
       "4    16476     NaN  3302900032      GASD         DRY  11/13/2009  1691.0   \n",
       "\n",
       "         Location                            Operator            Well Name  \\\n",
       "0  NWNW 11-135-72              CALVERT DRILLING, INC.      ARNOLD GERBER 1   \n",
       "1  NWNW 29-135-73        WISE OIL COMPANY NO. 2 ET AL  BALTZER A. WEIGEL 1   \n",
       "2  NWNE 22-135-74               ARKLA EXPLORATION CO.           ELLEFSON 1   \n",
       "3  SWSW 14-135-76  SOUTHWESTERN ENERGY PRODUCTION CO.        BEASTROM 1-14   \n",
       "4  SESE 15-135-76                STAGHORN ENERGY, LLC          WEISER 1-15   \n",
       "\n",
       "     Field  \n",
       "0  WILDCAT  \n",
       "1  WILDCAT  \n",
       "2  WILDCAT  \n",
       "3  WILDCAT  \n",
       "4  WILDCAT  "
      ]
     },
     "execution_count": 37,
     "metadata": {},
     "output_type": "execute_result"
    }
   ],
   "source": [
    "df = tables[2]\n",
    "df.head()"
   ]
  },
  {
   "cell_type": "markdown",
   "id": "3a9f275b-6595-4ebc-acde-337f127d4437",
   "metadata": {},
   "source": [
    "It was township 135, so we can even save it as `135.csv`."
   ]
  },
  {
   "cell_type": "code",
   "execution_count": 38,
   "id": "7e102a5e-9a26-4534-9909-6488a4d58639",
   "metadata": {},
   "outputs": [],
   "source": [
    "df.to_csv(\"135.csv\", index=False)"
   ]
  },
  {
   "cell_type": "markdown",
   "id": "ca9be995-0ef6-460c-80eb-e769cfb9d8ef",
   "metadata": {},
   "source": [
    "## Waiting for elements to appear\n",
    "\n",
    "If we want to search for *multiple* townships, we could write a loop to go through it.\n",
    "\n",
    "If we do it \"normally,\" though, we run into an error. Even though we can see the table on the page, it doesn't make it into BeautifulSoup.\n",
    "\n",
    "```\n",
    "---> 16 df = tables[2]\n",
    "     17 df.to_csv(filename, index=False)\n",
    "\n",
    "IndexError: list index out of range\n",
    "```\n",
    "\n",
    "This is because the table doesn't load until a tiny bit after the page loads. Playwright doesn't know we are waiting for the table, though, so it feeds the incomplete page to BeautifulSoup. If you were working with Selenium you might use `time.sleep` or the awful, horrible version of waiting they support, but with Playwright it's easy!\n",
    "\n",
    "We're just going to wait for the \"CTB No\" field to show up:\n",
    "\n",
    "```python\n",
    "await page.get_by_text('CTB No').wait_for()\n",
    "```\n",
    "\n",
    "The code underneath that line won't continue until \"CTB No\" appears on the page."
   ]
  },
  {
   "cell_type": "code",
   "execution_count": 40,
   "id": "43b04075-9028-4915-a7e8-4af86d29fc40",
   "metadata": {},
   "outputs": [
    {
     "name": "stdout",
     "output_type": "stream",
     "text": [
      "Searching for page 129\n"
     ]
    },
    {
     "name": "stderr",
     "output_type": "stream",
     "text": [
      "/var/folders/_m/b8tjbm6n4zs1q2mvjvg25x1m0000gn/T/ipykernel_48736/3519667351.py:14: FutureWarning: Passing literal html to 'read_html' is deprecated and will be removed in a future version. To read from a literal string, wrap it in a 'StringIO' object.\n",
      "  tables = pd.read_html(html)\n"
     ]
    },
    {
     "name": "stdout",
     "output_type": "stream",
     "text": [
      "Got it - saving as 129.csv\n",
      "Searching for page 130\n"
     ]
    },
    {
     "name": "stderr",
     "output_type": "stream",
     "text": [
      "/var/folders/_m/b8tjbm6n4zs1q2mvjvg25x1m0000gn/T/ipykernel_48736/3519667351.py:14: FutureWarning: Passing literal html to 'read_html' is deprecated and will be removed in a future version. To read from a literal string, wrap it in a 'StringIO' object.\n",
      "  tables = pd.read_html(html)\n"
     ]
    },
    {
     "name": "stdout",
     "output_type": "stream",
     "text": [
      "Got it - saving as 130.csv\n",
      "Searching for page 135\n",
      "Got it - saving as 135.csv\n"
     ]
    },
    {
     "name": "stderr",
     "output_type": "stream",
     "text": [
      "/var/folders/_m/b8tjbm6n4zs1q2mvjvg25x1m0000gn/T/ipykernel_48736/3519667351.py:14: FutureWarning: Passing literal html to 'read_html' is deprecated and will be removed in a future version. To read from a literal string, wrap it in a 'StringIO' object.\n",
      "  tables = pd.read_html(html)\n"
     ]
    }
   ],
   "source": [
    "township_numbers = ['129', '130', '135']\n",
    "\n",
    "for num in township_numbers:\n",
    "    # Fill it in\n",
    "    print(\"Searching for page\", num)\n",
    "    await page.locator(\"#ddmTownship\").select_option(num)\n",
    "    await page.get_by_text(\"Submit\", exact=True).click()\n",
    "\n",
    "    # Wait for the table to show up\n",
    "    await page.get_by_text('CTB No').wait_for()\n",
    "\n",
    "    # Grab the table from the page\n",
    "    html = await page.content()\n",
    "    tables = pd.read_html(html)\n",
    "    df = tables[2]\n",
    "\n",
    "    # Build filename and save it\n",
    "    filename = f\"{num}.csv\"\n",
    "    print(\"Got it - saving as\", filename)\n",
    "    df.to_csv(filename, index=False)"
   ]
  },
  {
   "cell_type": "markdown",
   "id": "6b6a9467-00c9-4419-9bb3-da971669e98f",
   "metadata": {},
   "source": [
    "## More forms\n",
    "\n",
    "Let's try to scrape the [South Dakota Board of Technical Professions](https://apps.sd.gov/ld17btp/licenseelist.aspx) this time. We're going to end up downloading some content, so I'm adding `downloads_path=\".\"`, which makes Playwright download files into the same folder as this notebook."
   ]
  },
  {
   "cell_type": "code",
   "execution_count": 52,
   "id": "7f791035-7ca6-414c-9408-dbb8a11656ff",
   "metadata": {},
   "outputs": [
    {
     "data": {
      "text/plain": [
       "<Response url='https://apps.sd.gov/ld17btp/licenseelist.aspx' request=<Request url='https://apps.sd.gov/ld17btp/licenseelist.aspx' method='GET'>>"
      ]
     },
     "execution_count": 52,
     "metadata": {},
     "output_type": "execute_result"
    }
   ],
   "source": [
    "from playwright.async_api import async_playwright\n",
    "\n",
    "# \"Hey, open up a browser\"\n",
    "playwright = await async_playwright().start()\n",
    "browser = await playwright.chromium.launch(\n",
    "    headless=False,\n",
    "    downloads_path=\".\"\n",
    ")\n",
    "\n",
    "# Create a new browser window\n",
    "page = await browser.new_page()\n",
    "\n",
    "# Tell it to go to this page\n",
    "await page.goto(\"https://apps.sd.gov/ld17btp/licenseelist.aspx\")"
   ]
  },
  {
   "cell_type": "markdown",
   "id": "1fb752dd-82de-4f08-a854-f182632b8017",
   "metadata": {},
   "source": [
    "If we want to start writing inside of the \"Name\" field, we can take the same shortcut as above and look for `page.locator(\"input\")` instead of specifying anything specific. We get 10 options out of a total of 20.\n",
    "\n",
    "```\n",
    "Error: Error: strict mode violation: locator(\"input\") resolved to 20 elements:\n",
    "    1) <input type=\"hidden\" id=\"ctl00_RadScriptManager1_TSM\" n…/> aka locator(\"#ctl00_RadScriptManager1_TSM\")\n",
    "    2) <input value=\"\" type=\"hidden\" id=\"__EVENTTARGET\" name=\"…/> aka locator(\"[id=\\\"__EVENTTARGET\\\"]\")\n",
    "    3) <input value=\"\" type=\"hidden\" id=\"__EVENTARGUMENT\" name…/> aka locator(\"[id=\\\"__EVENTARGUMENT\\\"]\")\n",
    "    4) <input type=\"hidden\" id=\"__VIEWSTATE\" name=\"__VIEWSTATE…/> aka locator(\"[id=\\\"__VIEWSTATE\\\"]\")\n",
    "    5) <input type=\"hidden\" value=\"C7B208E6\" id=\"__VIEWSTATEGE…/> aka locator(\"[id=\\\"__VIEWSTATEGENERATOR\\\"]\")\n",
    "    6) <input value=\"\" type=\"hidden\" id=\"__VIEWSTATEENCRYPTED\"…/> aka locator(\"[id=\\\"__VIEWSTATEENCRYPTED\\\"]\")\n",
    "    7) <input type=\"hidden\" id=\"__EVENTVALIDATION\" name=\"__EVE…/> aka locator(\"[id=\\\"__EVENTVALIDATION\\\"]\")\n",
    "    8) <input type=\"text\" maxlength=\"50\" id=\"ctl00_ContentPlac…/> aka locator(\"#ctl00_ContentPlaceHolder1_txtName\")\n",
    "    9) <input type=\"text\" value=\"All\" autocomplete=\"off\" class…/> aka locator(\"#ctl00_ContentPlaceHolder1_ddlPEDisc_Input\")\n",
    "    10) <input type=\"hidden\" autocomplete=\"off\" id=\"ctl00_Conte…/> aka locator(\"#ctl00_ContentPlaceHolder1_ddlPEDisc_ClientState\")\n",
    "    ...\n",
    "```\n",
    "\n",
    "Luckily it seems like `locator(\"#ctl00_ContentPlaceHolder1_txtName\")` is probably what we're looking for!"
   ]
  },
  {
   "cell_type": "code",
   "execution_count": 53,
   "id": "ca747c7d-5b61-4803-921d-3ffef07a8a0b",
   "metadata": {},
   "outputs": [],
   "source": [
    "await page.locator(\"#ctl00_ContentPlaceHolder1_txtName\").fill('SMITH')"
   ]
  },
  {
   "cell_type": "markdown",
   "id": "91934569-0543-48f2-847a-6f13166f77ba",
   "metadata": {},
   "source": [
    "Now we want to select something from the Profession dropdown. Because it **isn't a normal select box** we have to actually click the dropdown arrow, then click the profession we're interested in."
   ]
  },
  {
   "cell_type": "code",
   "execution_count": 54,
   "id": "827861e7-ae28-4dd6-84f0-b0daee9f3e10",
   "metadata": {},
   "outputs": [],
   "source": [
    "await page.locator(\"#ctl00_ContentPlaceHolder1_ddlProfession_Arrow\").click()\n",
    "await page.get_by_text(\"Professional Engineer\").click()"
   ]
  },
  {
   "cell_type": "markdown",
   "id": "cedfafa7-bf22-4616-b150-3fc6d016e07e",
   "metadata": {},
   "source": [
    "Now let's click that Search button! If we try `page.get_by_text(\"Search\")` we get a few options and we pick the most likely one."
   ]
  },
  {
   "cell_type": "code",
   "execution_count": 55,
   "id": "cbcdd48e-f478-42ab-989f-e67d00ac77c0",
   "metadata": {},
   "outputs": [],
   "source": [
    "await page.get_by_role(\"button\", name=\"Search\").click()"
   ]
  },
  {
   "cell_type": "markdown",
   "id": "efbb8872-673e-48e0-bbe2-25a51757a47b",
   "metadata": {},
   "source": [
    "Now that the page loads we *could* use `page.content()` to feed the table into pandas... or we could just click the \"Download CSV\" button!"
   ]
  },
  {
   "cell_type": "code",
   "execution_count": 49,
   "id": "7a8877ab-6e61-4b3c-84e1-7bf4d3b87f2c",
   "metadata": {},
   "outputs": [],
   "source": [
    "await page.locator(\"#ctl00_ContentPlaceHolder1_rgLicensee_ctl00_ctl02_ctl00_ExportToCsvButton\").click()"
   ]
  },
  {
   "cell_type": "markdown",
   "id": "7452bfa3-974e-4db2-9b4a-3c6b48cf664a",
   "metadata": {},
   "source": [
    "It downloads – with an awful filename of `9b96da64-757f-4166-a84c-63fa1830e77c` – into the current folder. Thank you `downloads_path=\".\"` that we set up when we launched the browser!\n",
    "\n",
    "If we want to be a little more in control of the filename, we can skip `downloads_path` and write slightly more complicated code. In the code below, we're listening for the download to happen and redirect it to a \"good\" filename when it starts."
   ]
  },
  {
   "cell_type": "code",
   "execution_count": 56,
   "id": "5be465a6-0d89-4fd9-a476-8a2dafb0267b",
   "metadata": {},
   "outputs": [],
   "source": [
    "async with page.expect_download() as download_info:\n",
    "    # Perform the action that initiates download\n",
    "    await page.locator(\"#ctl00_ContentPlaceHolder1_rgLicensee_ctl00_ctl02_ctl00_ExportToCsvButton\").click()\n",
    "download = await download_info.value\n",
    "\n",
    "# Wait for the download process to complete and save the downloaded file somewhere\n",
    "await download.save_as(\"content.csv\")"
   ]
  },
  {
   "cell_type": "markdown",
   "id": "f7ad2947-797f-4771-9ea4-5bae5f319b32",
   "metadata": {},
   "source": [
    "Did it work???"
   ]
  },
  {
   "cell_type": "code",
   "execution_count": 58,
   "id": "635019b9-6e39-40f6-a74e-8bedf99b59ba",
   "metadata": {},
   "outputs": [
    {
     "data": {
      "text/html": [
       "<div>\n",
       "<style scoped>\n",
       "    .dataframe tbody tr th:only-of-type {\n",
       "        vertical-align: middle;\n",
       "    }\n",
       "\n",
       "    .dataframe tbody tr th {\n",
       "        vertical-align: top;\n",
       "    }\n",
       "\n",
       "    .dataframe thead th {\n",
       "        text-align: right;\n",
       "    }\n",
       "</style>\n",
       "<table border=\"1\" class=\"dataframe\">\n",
       "  <thead>\n",
       "    <tr style=\"text-align: right;\">\n",
       "      <th></th>\n",
       "      <th>Profession</th>\n",
       "      <th>Name</th>\n",
       "      <th>Address</th>\n",
       "      <th>City</th>\n",
       "      <th>State</th>\n",
       "      <th>Zip</th>\n",
       "      <th>Phone</th>\n",
       "      <th>Registration&lt;br/&gt;Number</th>\n",
       "      <th>PE&lt;br/&gt;Disc.</th>\n",
       "      <th>Expiration&lt;br/&gt;Date</th>\n",
       "      <th>Status</th>\n",
       "    </tr>\n",
       "  </thead>\n",
       "  <tbody>\n",
       "    <tr>\n",
       "      <th>0</th>\n",
       "      <td>PE</td>\n",
       "      <td>Lane Lee Goldsmith</td>\n",
       "      <td>PO Box 123</td>\n",
       "      <td>Mobridge</td>\n",
       "      <td>SD</td>\n",
       "      <td>57601</td>\n",
       "      <td>(605) 350-4625</td>\n",
       "      <td>8908</td>\n",
       "      <td>CE</td>\n",
       "      <td>6/30/2024</td>\n",
       "      <td>Active</td>\n",
       "    </tr>\n",
       "    <tr>\n",
       "      <th>1</th>\n",
       "      <td>PE</td>\n",
       "      <td>Todd L. Goldsmith</td>\n",
       "      <td>5212 Basswood St</td>\n",
       "      <td>Rapid City</td>\n",
       "      <td>SD</td>\n",
       "      <td>57703</td>\n",
       "      <td>(605) 848-0040</td>\n",
       "      <td>5163</td>\n",
       "      <td>CE</td>\n",
       "      <td>12/31/2024</td>\n",
       "      <td>Active</td>\n",
       "    </tr>\n",
       "    <tr>\n",
       "      <th>2</th>\n",
       "      <td>PE</td>\n",
       "      <td>Willie Morgan NeSmith, Jr.</td>\n",
       "      <td>7300 Marks Lane</td>\n",
       "      <td>Austell</td>\n",
       "      <td>GA</td>\n",
       "      <td>30168</td>\n",
       "      <td>(770) 941-5100</td>\n",
       "      <td>10305</td>\n",
       "      <td>CE</td>\n",
       "      <td>7/31/2024</td>\n",
       "      <td>Active</td>\n",
       "    </tr>\n",
       "    <tr>\n",
       "      <th>3</th>\n",
       "      <td>PE</td>\n",
       "      <td>Aaron D. Smith</td>\n",
       "      <td>1801 W 32nd St, Bldg B Suite 104</td>\n",
       "      <td>Joplin</td>\n",
       "      <td>MO</td>\n",
       "      <td>64804</td>\n",
       "      <td>(417) 624-0444</td>\n",
       "      <td>8630</td>\n",
       "      <td>CE</td>\n",
       "      <td>7/31/2025</td>\n",
       "      <td>Active</td>\n",
       "    </tr>\n",
       "    <tr>\n",
       "      <th>4</th>\n",
       "      <td>PE</td>\n",
       "      <td>Alexander  Smith</td>\n",
       "      <td>8309 W 42nd Street</td>\n",
       "      <td>Sioux Falls</td>\n",
       "      <td>SD</td>\n",
       "      <td>57106</td>\n",
       "      <td>6052202447</td>\n",
       "      <td>15570</td>\n",
       "      <td>CE</td>\n",
       "      <td>12/31/2025</td>\n",
       "      <td>Active</td>\n",
       "    </tr>\n",
       "  </tbody>\n",
       "</table>\n",
       "</div>"
      ],
      "text/plain": [
       "  Profession                        Name                           Address  \\\n",
       "0         PE          Lane Lee Goldsmith                        PO Box 123   \n",
       "1         PE           Todd L. Goldsmith                  5212 Basswood St   \n",
       "2         PE  Willie Morgan NeSmith, Jr.                   7300 Marks Lane   \n",
       "3         PE              Aaron D. Smith  1801 W 32nd St, Bldg B Suite 104   \n",
       "4         PE            Alexander  Smith                8309 W 42nd Street   \n",
       "\n",
       "          City State    Zip           Phone  Registration<br/>Number  \\\n",
       "0     Mobridge    SD  57601  (605) 350-4625                     8908   \n",
       "1   Rapid City    SD  57703  (605) 848-0040                     5163   \n",
       "2      Austell    GA  30168  (770) 941-5100                    10305   \n",
       "3       Joplin    MO  64804  (417) 624-0444                     8630   \n",
       "4  Sioux Falls    SD  57106      6052202447                    15570   \n",
       "\n",
       "  PE<br/>Disc. Expiration<br/>Date  Status  \n",
       "0           CE           6/30/2024  Active  \n",
       "1           CE          12/31/2024  Active  \n",
       "2           CE           7/31/2024  Active  \n",
       "3           CE           7/31/2025  Active  \n",
       "4           CE          12/31/2025  Active  "
      ]
     },
     "execution_count": 58,
     "metadata": {},
     "output_type": "execute_result"
    }
   ],
   "source": [
    "df = pd.read_csv(\"content.csv\")\n",
    "df.head()"
   ]
  },
  {
   "cell_type": "markdown",
   "id": "4fc9d1de-c295-4ac7-8990-f38ad032d3c1",
   "metadata": {},
   "source": [
    "## Solving CAPTCHAs\n",
    "\n",
    "When you're looking to scrape a site with a browser automation tool, you'll often run up against CAPTCHAs that demand to know that you are *not* a robot. Since you *are* a robot, it can be problematic.\n",
    "\n",
    "Luckily, a lot of services exist to help you out with that! The one that's easiest to use and requires the least technical skill is probably NopeCHA, I [wrote a writeup of how to use NopeCHA to solve CAPTCHAs with Playwright here](https://jonathansoma.com/everything/scraping/solving-captchas-in-playwright-with-nopecha/). It involves downloading an extension that you then embed an API key into, then visiting the CAPTCHA-y page with the Playwright browser.\n",
    "\n",
    "NopeCHA works pretty well from my experience, but it's always a cat and mouse game! You might have luck using [2captcha](https://github.com/2captcha/2captcha-python) or [anti-captcha](https://anti-captcha.com/) if NopeCHA comes up empty."
   ]
  },
  {
   "cell_type": "code",
   "execution_count": null,
   "id": "79a263e3-8fa1-43c2-98e1-823f40a4a5b0",
   "metadata": {},
   "outputs": [],
   "source": []
  }
 ],
 "metadata": {
  "kernelspec": {
   "display_name": "Python 3 (ipykernel)",
   "language": "python",
   "name": "python3"
  },
  "language_info": {
   "codemirror_mode": {
    "name": "ipython",
    "version": 3
   },
   "file_extension": ".py",
   "mimetype": "text/x-python",
   "name": "python",
   "nbconvert_exporter": "python",
   "pygments_lexer": "ipython3",
   "version": "3.11.6"
  }
 },
 "nbformat": 4,
 "nbformat_minor": 5
}
